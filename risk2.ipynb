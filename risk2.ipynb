{
 "cells": [
  {
   "cell_type": "markdown",
   "metadata": {},
   "source": [
    "# Copula"
   ]
  },
  {
   "cell_type": "markdown",
   "metadata": {},
   "source": [
    "Source Code:\n",
    "<br>\n",
    "© Thomas Robert Holy 2019\n",
    "<br>\n",
    "Version 0.1.2"
   ]
  },
  {
   "cell_type": "markdown",
   "metadata": {},
   "source": [
    "## Import Packages"
   ]
  },
  {
   "cell_type": "code",
   "execution_count": null,
   "metadata": {},
   "outputs": [],
   "source": [
    "from scipy import array, linalg, dot\n",
    "from scipy.stats import rankdata, norm\n",
    "import random\n",
    "import numpy as np\n",
    "import math\n",
    "import operator\n",
    "import scipy.stats as st\n",
    "import matplotlib.pyplot as plt\n",
    "import matplotlib.patches as mpatches"
   ]
  },
  {
   "cell_type": "markdown",
   "metadata": {},
   "source": [
    "## Grundeinstellungen"
   ]
  },
  {
   "cell_type": "code",
   "execution_count": null,
   "metadata": {},
   "outputs": [],
   "source": [
    "%%javascript\n",
    "IPython.OutputArea.auto_scroll_threshold = 9999;"
   ]
  },
  {
   "cell_type": "code",
   "execution_count": null,
   "metadata": {},
   "outputs": [],
   "source": [
    "from IPython.core.display import display, HTML\n",
    "display(HTML(\"<style>.container { width:100% !important; }</style>\"))\n",
    "\n",
    "SCREEN_WIDTH = 140\n",
    "centered = operator.methodcaller('center', SCREEN_WIDTH)\n",
    "\n",
    "plt.rcParams[\"figure.figsize\"] = 15,15"
   ]
  },
  {
   "cell_type": "markdown",
   "metadata": {},
   "source": [
    "## Simulation"
   ]
  },
  {
   "cell_type": "code",
   "execution_count": null,
   "metadata": {},
   "outputs": [],
   "source": [
    "summe_r_list = []\n",
    "summe_r_cop_list = []\n",
    "summe_xy_list = []\n",
    "summe_liste = []\n",
    "\n",
    "counter_total = 0\n",
    "n = 10000\n",
    "\n",
    "\n",
    "for i in range(1,n+1):\n",
    "    #-----------------------------------------------------------------------------------------------------------\n",
    "    # Gegeben:\n",
    "\n",
    "    #-----------------------\n",
    "    # Randverteilungen Gleichverteilung\n",
    "\n",
    "    x_down = 10\n",
    "    x_up = 20\n",
    "\n",
    "    y_down = 8\n",
    "    y_up = 22\n",
    "\n",
    "    #-----------------------\n",
    "    # Varianz\n",
    "    \n",
    "    #var = [0.0016, 0.000625, 0.0064]\n",
    "    var = [4, 9]\n",
    "\n",
    "    #-----------------------\n",
    "    # Varianz-Kovarianz-Matrix\n",
    "\n",
    "    #  a = array([[0.0016, 0.0004, 0.0016],[0.0004, 0.000625, 0.0004],[0.0016, 0.0004, 0.0064]])\n",
    "    a = array([[4, 0],[0, 9]])\n",
    "\n",
    "    #-----------------------\n",
    "    # Zufallsvariablen\n",
    "\n",
    "    random_list = []\n",
    "    n = 2\n",
    "\n",
    "    for i in range(1,n+1):\n",
    "        x = random.random()\n",
    "        random_list.append(x)\n",
    "    #random_list = [0.1, 0.6, 0.9]\n",
    "    #random_list = [0.1, 0.6]\n",
    "\n",
    "    #-----------------------\n",
    "    # Erwartungswerte\n",
    "\n",
    "    #mu = [0.04, 0.015, 0.06]\n",
    "    mu = [2, 3]\n",
    "\n",
    "    #-----------------------------------------------------------------------------------------------------------\n",
    "    # Cholesky-Zerlegung\n",
    "\n",
    "    L = linalg.cholesky(a, lower=True)\n",
    "\n",
    "    #-----------------------------------------------------------------------------------------------------------\n",
    "    # Transformation in standardnormalverteilte ZV\n",
    "\n",
    "    random_standard_norm_list = norm.ppf(random_list)\n",
    "\n",
    "    #-----------------------------------------------------------------------------------------------------------\n",
    "    # Transformation in standardnormalvertzeilte abhängie ZV\n",
    "\n",
    "    r_list = []\n",
    "\n",
    "    counter_L0 = 0\n",
    "    counter_L1 = 0\n",
    "    counter_mu = 0\n",
    "    counter_random_standard_norm_list = 0\n",
    "\n",
    "    #for i in range(0,3):\n",
    "    for i in range(0,2):\n",
    "        a = L[counter_L0][counter_L1] * random_standard_norm_list[counter_random_standard_norm_list]\n",
    "        counter_L1 += 1\n",
    "        counter_random_standard_norm_list += 1\n",
    "\n",
    "        b = L[counter_L0][counter_L1] * random_standard_norm_list[counter_random_standard_norm_list]\n",
    "        #counter_L1 += 1\n",
    "        #counter_random_standard_norm_list += 1\n",
    "\n",
    "        #c = L[counter_L0][counter_L1] * random_standard_norm_list[counter_random_standard_norm_list]\n",
    "        counter_L1 = 0\n",
    "        counter_random_standard_norm_list = 0\n",
    "        counter_L0 += 1    \n",
    "\n",
    "        #r = a  + b + c + mu[counter_mu]\n",
    "        r = a  + b + mu[counter_mu]\n",
    "        counter_mu += 1\n",
    "        r_list.append(r)\n",
    "\n",
    "    #-----------------------------------------------------------------------------------------------------------\n",
    "    # Transformation Realisationen der Gauss-Copula\n",
    "\n",
    "    r_cop_list = []\n",
    "    counter = 0\n",
    "    #for i in range(0,3):\n",
    "    for i in range(0,2):\n",
    "        r_cop = (r_list[counter] - mu[counter]) / math.sqrt(var[counter])   \n",
    "        p_value = st.norm.cdf(r_cop)\n",
    "        counter += 1\n",
    "\n",
    "        r_cop_list.append(p_value)\n",
    "\n",
    "    counter = 0\n",
    "    x = (x_up-x_down) * r_cop_list[0] + x_down\n",
    "    y = (y_up-y_down) * r_cop_list[1] + y_down\n",
    "    xy = (x,y)\n",
    "\n",
    "    summe = x + y\n",
    "\n",
    "    counter_total += 1\n",
    "\n",
    "    summe_r_list.append(r_list)\n",
    "    summe_r_cop_list.append(r_cop_list)\n",
    "    summe_xy_list.append(xy)\n",
    "    summe_liste.append(summe)"
   ]
  },
  {
   "cell_type": "markdown",
   "metadata": {},
   "source": [
    "## Beispiel letzter Simulationsdurchlauf"
   ]
  },
  {
   "cell_type": "code",
   "execution_count": null,
   "metadata": {},
   "outputs": [],
   "source": [
    "print('Varianzen:')\n",
    "print(var)\n",
    "print(' ')\n",
    "\n",
    "print('Erwartungswerte:')\n",
    "print(mu)\n",
    "print(' ')\n",
    "\n",
    "print('Gleichverteilte Pseudo-Zufallsvariablen:')\n",
    "print(random_list)\n",
    "print(' ')\n",
    "\n",
    "print('Cholesky-Zerlegung:')\n",
    "print(L)\n",
    "print(' ')\n",
    "\n",
    "print('Standardnormalverteilte unabhängige Zufallsvariablen:')\n",
    "print(random_standard_norm_list)\n",
    "print(' ')\n",
    "\n",
    "print('Realisationen der standardnormalverteilten abhängigen Zufallsvariablen:')\n",
    "print(r_list)\n",
    "print(' ')\n",
    "\n",
    "print('Zugehörige Wahrscheinlichkeiten der Gauss-Copula:')  \n",
    "print(r_cop_list)\n",
    "print(' ')\n",
    "\n",
    "print('Gemeinsame Verteilung von x und y:')\n",
    "print(x)\n",
    "print(y)\n",
    "print(' ')\n",
    "\n",
    "print('Summe:')\n",
    "print(summe)"
   ]
  },
  {
   "cell_type": "markdown",
   "metadata": {},
   "source": [
    "# Graphische Ausgaben"
   ]
  },
  {
   "cell_type": "markdown",
   "metadata": {},
   "source": [
    "## Realisationen abhängiger bivariat normalverteilter Zufallsvariablen"
   ]
  },
  {
   "cell_type": "code",
   "execution_count": null,
   "metadata": {},
   "outputs": [],
   "source": [
    "#----------------------------------------------------------\n",
    "# Realisationen abhängiger bivariat normalverteilter Zufallsvariablen\n",
    "\n",
    "counter_1 = 0\n",
    "counter_2 = 0\n",
    "x_liste = []\n",
    "y_liste = []\n",
    "\n",
    "for i in range(0,len(summe_r_list)):\n",
    "    x = summe_r_list[counter_1][0]\n",
    "    y = summe_r_list[counter_1][1]\n",
    "    x_liste.append(x)\n",
    "    y_liste.append(y)\n",
    "    counter_1 += 1\n",
    "    counter_2 += 1\n",
    "\n",
    "#print(x_liste)\n",
    "#print(y_liste)\n",
    "\n",
    "plt.scatter(x_liste, y_liste)\n",
    "plt.grid()\n",
    "plt.xlabel('Realisation X')\n",
    "plt.ylabel('Realisation Y')\n",
    "plt.title('Realisationen abhängiger bivariat normalverteilter Zufallsvariablen')\n",
    "plt.axhline(0, color='black')\n",
    "plt.axvline(0, color='black')\n",
    "plt.show()"
   ]
  },
  {
   "cell_type": "markdown",
   "metadata": {},
   "source": [
    "## Realisationen Gauss-Copula"
   ]
  },
  {
   "cell_type": "code",
   "execution_count": null,
   "metadata": {},
   "outputs": [],
   "source": [
    "#----------------------------------------------------------\n",
    "# Realisationen Gauss-Copula\n",
    "\n",
    "counter_1 = 0\n",
    "counter_2 = 0\n",
    "x_liste = []\n",
    "y_liste = []\n",
    "\n",
    "for i in range(0,len(summe_r_cop_list)):\n",
    "    x = summe_r_cop_list[counter_1][0]\n",
    "    y = summe_r_cop_list[counter_1][1]\n",
    "    x_liste.append(x)\n",
    "    y_liste.append(y)\n",
    "    counter_1 += 1\n",
    "    counter_2 += 1\n",
    "\n",
    "#print(x_liste)\n",
    "#print(y_liste)\n",
    "\n",
    "plt.scatter(x_liste, y_liste)\n",
    "plt.grid()\n",
    "plt.xlabel('Realisation X')\n",
    "plt.ylabel('Realisation Y')\n",
    "plt.title('Realisationen Gauss-Copula')\n",
    "plt.axhline(0, color='black')\n",
    "plt.axvline(0, color='black')\n",
    "plt.show()"
   ]
  },
  {
   "cell_type": "markdown",
   "metadata": {},
   "source": [
    "## Realisationen gleichverteilte X, Y mit Gauss-Copula"
   ]
  },
  {
   "cell_type": "code",
   "execution_count": null,
   "metadata": {},
   "outputs": [],
   "source": [
    "#----------------------------------------------------------\n",
    "# Realisationen gleichverteilte X, Y mit Gauss-Copula\n",
    "\n",
    "counter_1 = 0\n",
    "counter_2 = 0\n",
    "x_liste = []\n",
    "y_liste = []\n",
    "\n",
    "for i in range(0,len(summe_xy_list)):\n",
    "    x = summe_xy_list[counter_1][0]\n",
    "    y = summe_xy_list[counter_1][1]\n",
    "    x_liste.append(x)\n",
    "    y_liste.append(y)\n",
    "    counter_1 += 1\n",
    "    counter_2 += 1\n",
    "\n",
    "#print(x_liste)\n",
    "#print(y_liste)\n",
    "\n",
    "plt.scatter(x_liste, y_liste)\n",
    "plt.grid()\n",
    "plt.xlabel('Realisation X')\n",
    "left, right = plt.xlim()\n",
    "plt.xlim((left, right))   \n",
    "plt.xlim(left, right)     \n",
    "left, right = plt.ylim()\n",
    "plt.ylim((left, right)) \n",
    "plt.ylim(left, right)     \n",
    "plt.ylabel('Realisation Y')\n",
    "plt.title('Realisationen gleichverteilte X, Y mit Gauss-Copula')\n",
    "plt.axhline(0, color='black')\n",
    "plt.axvline(0, color='black')\n",
    "plt.show()"
   ]
  },
  {
   "cell_type": "markdown",
   "metadata": {},
   "source": [
    "## Histogramm X+Y, Realisationen gleichverteilte X, Y mit Gauss-Copula"
   ]
  },
  {
   "cell_type": "code",
   "execution_count": null,
   "metadata": {},
   "outputs": [],
   "source": [
    "#----------------------------------------------------------\n",
    "# Histogramm X+Y, Realisationen gleichverteilte X, Y mit Gauss-Copula\n",
    "\n",
    "values_PF = summe_liste\n",
    "bins = 71\n",
    "\n",
    "H, X1 = np.histogram(values_PF, bins, density=True)\n",
    "dx = X1[1] - X1[0]\n",
    "F1 = np.cumsum(H)*dx\n",
    "plt.plot(X1[1:], F1)\n",
    "\n",
    "\n",
    "plt.grid()\n",
    "plt.xlabel('PF-Realisation')\n",
    "plt.ylabel('Wahrscheinlichkeit')\n",
    "#blue_patch = mpatches.Patch(color='blue', label='Historische Simulation')\n",
    "#orange_patch = mpatches.Patch(color='orange', label='Varianz-Kovarianzmethode')\n",
    "#plt.legend(handles=[orange_patch, blue_patch])\n",
    "plt.title('Histogram X+Y, Realisationen gleichverteilte X,Y mit Gauss-Copula')\n",
    "plt.axhline(0, color='black')\n",
    "plt.axvline(0, color='black')\n",
    "plt.show()"
   ]
  },
  {
   "cell_type": "markdown",
   "metadata": {},
   "source": [
    "## Verteilung X+Y, Realisationen gleichverteilte X, Y mit Gauss-Copula"
   ]
  },
  {
   "cell_type": "code",
   "execution_count": null,
   "metadata": {},
   "outputs": [],
   "source": [
    "#----------------------------------------------------------\n",
    "# Verteilung X+Y, Realisationen gleichverteilte X, Y mit Gauss-Copula\n",
    "\n",
    "data = summe_liste\n",
    "plt.hist(data, bins)\n",
    "plt.grid()\n",
    "plt.title('Verteilung X+Y, Realisationen gleichverteilte X,Y mit Gauss-Copula')\n",
    "plt.xlabel('PF-Realisation')\n",
    "plt.ylabel('Anzahl')\n",
    "plt.show()"
   ]
  },
  {
   "cell_type": "markdown",
   "metadata": {},
   "source": [
    "## Risikomaäße schätzen"
   ]
  },
  {
   "cell_type": "markdown",
   "metadata": {},
   "source": [
    "### Value at Risk"
   ]
  },
  {
   "cell_type": "code",
   "execution_count": null,
   "metadata": {},
   "outputs": [],
   "source": [
    "RM_list = sorted(values_PF)\n",
    "\n",
    "def VaR(alpha):\n",
    "    item = int((alpha * len(RM_list)))\n",
    "    VaR = RM_list[item]\n",
    "    print('#------------------------------------------------------------------------------------------------------------------#')\n",
    "    print('|' + centered('Der VaR beträgt: ' + str(VaR) + '.') + '| ')"
   ]
  },
  {
   "cell_type": "markdown",
   "metadata": {},
   "source": [
    "### Conditional Value at Risk"
   ]
  },
  {
   "cell_type": "code",
   "execution_count": null,
   "metadata": {},
   "outputs": [],
   "source": [
    "def CVaR(alpha):\n",
    "    item = int((alpha * len(RM_list)))\n",
    "    CVaR_list = RM_list[0:item]     \n",
    "    CVaR = np.sum(CVaR_list) / len(CVaR_list)\n",
    "    print('#------------------------------------------------------------------------------------------------------------------#')\n",
    "    print('|' + centered('Der CVaR beträgt: ' + str(CVaR) + '.') + '| ')"
   ]
  },
  {
   "cell_type": "markdown",
   "metadata": {},
   "source": [
    "### Power-Spektrales Risikomaß"
   ]
  },
  {
   "cell_type": "code",
   "execution_count": null,
   "metadata": {},
   "outputs": [],
   "source": [
    "def power(gamma):\n",
    "    counter0 = 0\n",
    "    for i in RM_list:\n",
    "        counter0 +=1\n",
    "    \n",
    "    EW = np.mean(RM_list)\n",
    "    print('#------------------------------------------------------------------------------------------------------------------#')\n",
    "    print('|' + centered('Power-Spektrales Risikomaß bei der historischen Simulation:') + '| ')\n",
    "    print('#------------------------------------------------------------------------------------------------------------------#')\n",
    "    print('|' + centered('Der Erwartungswert beträgt: ' + str(EW) + '.') + '| ')\n",
    "\n",
    "    subj_ws_list = []\n",
    "    counter1 = len(RM_list)\n",
    "    counter2 = len(RM_list)-1\n",
    "    for i in RM_list:\n",
    "        subj_ws = (np.power((counter1 / counter0), gamma)) - (np.power((counter2 / counter0), gamma)) \n",
    "        counter1 -= 1\n",
    "        counter2 -= 1\n",
    "        subj_ws_list.append(subj_ws)\n",
    "    subj_ws_list = subj_ws_list[::-1]\n",
    "    risk = np.matmul(np.transpose(RM_list), subj_ws_list)\n",
    "    print('|' + centered('Das Risiko beträgt: ' + str(risk) + '.') + '| ')\n",
    "    print('#------------------------------------------------------------------------------------------------------------------#')"
   ]
  },
  {
   "cell_type": "markdown",
   "metadata": {},
   "source": [
    "### Parameterfestlegung und Aufruf der Funktionen"
   ]
  },
  {
   "cell_type": "code",
   "execution_count": null,
   "metadata": {},
   "outputs": [],
   "source": [
    "alpha = 0.05\n",
    "gamma = 0.5\n",
    "\n",
    "VaR(alpha)\n",
    "CVaR(alpha)\n",
    "power(gamma)"
   ]
  }
 ],
 "metadata": {
  "kernelspec": {
   "display_name": "Python 3",
   "language": "python",
   "name": "python3"
  },
  "language_info": {
   "codemirror_mode": {
    "name": "ipython",
    "version": 3
   },
   "file_extension": ".py",
   "mimetype": "text/x-python",
   "name": "python",
   "nbconvert_exporter": "python",
   "pygments_lexer": "ipython3",
   "version": "3.7.3"
  }
 },
 "nbformat": 4,
 "nbformat_minor": 2
}
