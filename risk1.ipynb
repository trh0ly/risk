{
 "cells": [
  {
   "cell_type": "markdown",
   "metadata": {},
   "source": [
    "# Historsiche Simulation versus Varianz-Kovarianz-Methode"
   ]
  },
  {
   "cell_type": "markdown",
   "metadata": {},
   "source": [
    "© Thomas Robert Holy 2019\n",
    "<br>\n",
    "Version 0.9.1"
   ]
  },
  {
   "cell_type": "markdown",
   "metadata": {},
   "source": [
    "## Voraussetzungen:"
   ]
  },
  {
   "cell_type": "markdown",
   "metadata": {},
   "source": [
    "- Wenn ihr an dieser Stelle angelangt seid, ist bereits alles vorbereitet \n",
    "<br>\n",
    "- Das Notebook lässt sich bereits vollständig mit künstlich generierten Aktienkurse ausführen"
   ]
  },
  {
   "cell_type": "markdown",
   "metadata": {},
   "source": [
    "### Optional:"
   ]
  },
  {
   "cell_type": "markdown",
   "metadata": {},
   "source": [
    "Um ein Portfolio aus echten Aktienkursen zusammenzustellen, könnt Ihr im Home-Verzeichnis bis zu fünf .csv-Datein hochladen. Diese sollten die folgenden Kritieren erfüllen:\n",
    "<br>\n",
    "- Sie umfassen alle denselben Zeitraum\n",
    "<br>\n",
    "- Es wird ein Punkt zur Dezimaltrennung verwendet\n",
    "<br>\n",
    "- Es wird ein Komma zur Spaltentrennung verwendet"
   ]
  },
  {
   "cell_type": "markdown",
   "metadata": {},
   "source": [
    "## Grundlegende Einstellungen:"
   ]
  },
  {
   "cell_type": "markdown",
   "metadata": {},
   "source": [
    "Zunächst müssen die notwendigen Packete (auch Module) importiert werden, damit auf diese zugegriffen werden kann."
   ]
  },
  {
   "cell_type": "code",
   "execution_count": 16,
   "metadata": {},
   "outputs": [],
   "source": [
    "import numpy as np # Programmbibliothek die eine einfache Handhabung von Vektoren, Matrizen oder generell großen mehrdimensionalen Arrays ermöglicht\n",
    "import pandas as pd #  Programmbibliothek die Hilfsmittel für die Verwaltung von Daten und deren Analyse anbietet\n",
    "import matplotlib.pyplot as plt # Programmbibliothek die es erlaubt mathematische Darstellungen aller Art anzufertigen\n",
    "import matplotlib.patches as mpatches\n",
    "import operator # Programmbibliothek die Ausgabe in diesem Beispiel übersichtlicher gestaltet\n",
    "import datetime as dt # Das datetime-Modul stellt Klassen bereit, mit denen Datums- und Uhrzeitangaben auf einfache und komplexe Weise bearbeitet werden können\n",
    "import sys # Dieses Modul bietet Zugriff auf einige Variablen, die vom Interpreter verwendet oder verwaltet werden, sowie auf Funktionen, die stark mit dem Interpreter interagieren\n",
    "from scipy import stats # SciPy ist ein Python-basiertes Ökosystem für Open-Source-Software für Mathematik, Naturwissenschaften und Ingenieurwissenschaften. "
   ]
  },
  {
   "cell_type": "markdown",
   "metadata": {},
   "source": [
    "Anschließend definieren wir die Einstellungen mit denen die Ausgaben generiert werden sollen.\n",
    "Hierfür nutzen wir das zuvor importierte Modul `operator`.\n",
    "Zusätzlich erhöhen wir noch die Displaybreite für das DataFrame, welches wir später verwenden werden und modifizieren die Größe der Grafik, welche später angezeigt werden soll."
   ]
  },
  {
   "cell_type": "code",
   "execution_count": 17,
   "metadata": {},
   "outputs": [],
   "source": [
    "SCREEN_WIDTH = 114 # Definiert die maximale Breite der Ausgabe, d.h. wie viele Zeichen die Ausgabe maximal umfasst\n",
    "centered = operator.methodcaller('center', SCREEN_WIDTH) # Definiert die Variable \"centered\", welche die Ausgabe zentriert \n",
    "\n",
    "pd.set_option('display.width', 1000) # Erhöht die Displaybreite für DataFrames, sodass mehr Spalten nebeneinander angezeigt werden können\n",
    "plt.rcParams[\"figure.figsize\"] = 10,7.5 # Parameter für die Größe der Grafik"
   ]
  },
  {
   "cell_type": "markdown",
   "metadata": {},
   "source": [
    "Ein Beispiel:"
   ]
  },
  {
   "cell_type": "code",
   "execution_count": 18,
   "metadata": {},
   "outputs": [
    {
     "name": "stdout",
     "output_type": "stream",
     "text": [
      "#------------------------------------------------------------------------------------------------------------------#\n",
      "|                  [INFO] Die Ausgabe wird nun zentriert um die Übersichtlichkeit zu verbessern.                   | \n",
      "#------------------------------------------------------------------------------------------------------------------#\n"
     ]
    }
   ],
   "source": [
    "print('#------------------------------------------------------------------------------------------------------------------#')\n",
    "print('|' + centered('[INFO] Die Ausgabe wird nun zentriert um die Übersichtlichkeit zu verbessern.') + '| ')\n",
    "print('#------------------------------------------------------------------------------------------------------------------#')"
   ]
  },
  {
   "cell_type": "markdown",
   "metadata": {},
   "source": [
    "## Datensätze einlesen und manipulieren:"
   ]
  },
  {
   "cell_type": "markdown",
   "metadata": {},
   "source": [
    "Nun wollen wir Datensätze einlesen.\n",
    "Da Jupityer Notebook leider Eingaben nicht zeilenweise einlesen kann, müssen wir die Datensätze manuell definieren und anschließend zum Array \"dateinamen\" hinzufügen.\n",
    "Standardmäßig werden zunächst zwei Datensätze (BAS.DE, FME.DE) definiert und im Array \"dateinamen\" gespeichert.\n",
    "<br><br>\n",
    "Hinweis: An dieser Stelle könnt ihr alternativ eure eigenen Datensätze einbringen, indem ihr example1 z.B. in BAS.DE und example2 z.B. in VOW3.DE umbenennt, sofern ihr den entsprechenden Datensatz im Home-Verzeichnis hochgeladen habt."
   ]
  },
  {
   "cell_type": "code",
   "execution_count": 22,
   "metadata": {},
   "outputs": [],
   "source": [
    "datensatz1 = 'example1'\n",
    "datensatz2 = 'example2'\n",
    "\n",
    "#---------------------------------------------\n",
    "# Hier könnt ihr weitere Datensätze definieren\n",
    "\n",
    "#datensatz3 = ''\n",
    "#datensatz4 = ''\n",
    "#datensatz5 = ''\n",
    "\n",
    "#---------------------------------------------\n",
    "# Diese müssen ggf. noch in diesem Array\n",
    "# ergänzt werden\n",
    "\n",
    "dateinamen = [datensatz1,datensatz2]"
   ]
  },
  {
   "cell_type": "markdown",
   "metadata": {},
   "source": [
    "Nun möchten wir aus den eingelesen Datensätzen den Aktienkurs zum jeweiligen Tag extrahieren. \n",
    "Diesen Schritt können wir in Jupyter Notebook automatisieren, indem wir zunächst die leere Liste \"kurse\" anlegen und anschließend für jeden Eintrag in der Liste \"dateinamen\" die jeweiligen Spalten \"Date\" und \"Adj Close\" einlesen.\n",
    "Dabei separieren wir die verschiedenen Spalten des jeweiligen Datensatzes mit jedem Komma und interpreteren Punkte als Zeichen für die Dezimaltrennung. Dann fügen wir die Daten zum Array \"kurse\" hinzu."
   ]
  },
  {
   "cell_type": "code",
   "execution_count": 23,
   "metadata": {},
   "outputs": [],
   "source": [
    "kurse = []        \n",
    "\n",
    "for eintrag in dateinamen:\n",
    "    kurs = pd.read_csv(str(eintrag) + '.csv',\n",
    "                sep=',',\n",
    "                decimal='.',\n",
    "                usecols=['Date','Adj Close'])\n",
    "    kurse.append(kurs)"
   ]
  },
  {
   "cell_type": "markdown",
   "metadata": {},
   "source": [
    "Nun nutzen wir das Modul `datetime` um die Datumsspalte des jeweiligen Datensatzes bearbeitbar zu machen.\n",
    "Zudem teilen wir dem Programm mit, dass die Einträge der Spalte \"Adj Close\" numerisch sind und wir mit ihnen rechnen können. Kommt es zu Fehlern werden entsprechende Werte als NaN-Werte zurückgebenen.\n"
   ]
  },
  {
   "cell_type": "code",
   "execution_count": 24,
   "metadata": {},
   "outputs": [],
   "source": [
    "for eintrag in kurse:\n",
    "    eintrag['Date'] = pd.to_datetime(eintrag['Date'])\n",
    "    eintrag['Adj Close'] = pd.to_numeric(eintrag['Adj Close'], errors='coerce')"
   ]
  },
  {
   "cell_type": "markdown",
   "metadata": {},
   "source": [
    "## Dataframe erzeugen und Daten zusammentragen:"
   ]
  },
  {
   "cell_type": "markdown",
   "metadata": {},
   "source": [
    "Jetzt tragen wir die eingelesenen Daten in einem Dataframe zusammen, wobei wir auf das Modul `Pandas` zurückgreifen.\n",
    "Ein Dataframe kann als Tabelle verstanden werden, welche sich ähnlich wie die in Excel verhält.\n",
    "Diesen Vorgang können wir wieder automatisieren, damit wir die einzelnen Spalten nicht manuell hinzufügen müssen. \n",
    "Zunächst wird das leere DataFrame \"kurschart\" definiert, anschließend wird für jeden Eintrag in dem Array \"kurse\" zunächst der entsprechende Aktienkurs und anschließend die dazugehörige Rendte berechnet und zum Dataframe hinzugefügt.\n",
    "Damit wir die Aktienkurse und Renditen auseinander halten können, greifen wir auf die Dateinamen aus dem Array \"dateinamen\" zurück."
   ]
  },
  {
   "cell_type": "code",
   "execution_count": 25,
   "metadata": {},
   "outputs": [],
   "source": [
    "kurschart = pd.DataFrame()\n",
    "zaehler = 0\n",
    "\n",
    "for eintrag in kurse:\n",
    "    x = dateinamen[zaehler]\n",
    "    kurschart['Aktienkurs ' + str(x)] = eintrag['Adj Close']\n",
    "    kurschart['Rendite ' + str(x)] = (eintrag['Adj Close'] - eintrag['Adj Close'].shift(periods=-1)) / eintrag['Adj Close'].shift(periods=-1)\n",
    "    zaehler += 1"
   ]
  },
  {
   "cell_type": "markdown",
   "metadata": {},
   "source": [
    "Um die Portfolio-Rendite zu ermitteln, selektieren wir die Spalten des DataFrames \"kurschart\" indem wir jede zweite Spalte auswählen (dies sind die jeweiligen Rendite-Spalten) und in einem zweiten DataFrame (\"hilfs_dataframe\") abspeichern. \n",
    "Anschließend bilden wir aus sämtlichen selektierten Spalten die Summe und teilen durch die Anzahl der Datensätze, die sich im Array \"dateinamen\" befinden."
   ]
  },
  {
   "cell_type": "code",
   "execution_count": 26,
   "metadata": {},
   "outputs": [],
   "source": [
    "hilfs_dataframe = kurschart.iloc[:, 1::2]\n",
    "hilfs_dataframe['PF-Rendite'] = hilfs_dataframe.sum(axis = 1, skipna = True) / len(dateinamen)"
   ]
  },
  {
   "cell_type": "markdown",
   "metadata": {},
   "source": [
    "Diese Portfolio-Rendite fügen wir nun dem urpsrünglichen Dataframe \"kurschart\" hinzu. \n",
    "Zudem erweitern wir den DataFrame und eine Datumsspalte und verwenden diese gleichzeitig als Index."
   ]
  },
  {
   "cell_type": "code",
   "execution_count": 27,
   "metadata": {},
   "outputs": [],
   "source": [
    "kurschart['Rendite-PF'] = hilfs_dataframe['PF-Rendite']\n",
    "\n",
    "kurschart['Datum'] = eintrag['Date']\n",
    "kurschart = kurschart.set_index('Datum')"
   ]
  },
  {
   "cell_type": "markdown",
   "metadata": {},
   "source": [
    "Nun lassen wir uns den Dataframe ausgeben:"
   ]
  },
  {
   "cell_type": "code",
   "execution_count": 29,
   "metadata": {},
   "outputs": [
    {
     "name": "stdout",
     "output_type": "stream",
     "text": [
      "#------------------------------------------------------------------------------------------------------------------#\n",
      "|  [INFO] Das Dataframe mit den Aktienkursen der Datensätze und deren jeweiligen Rendite ergibt sich wie folgt:    | \n",
      "#------------------------------------------------------------------------------------------------------------------#\n",
      "            Aktienkurs example1  Rendite example1  Aktienkurs example2  Rendite example2  Rendite-PF\n",
      "Datum                                                                                               \n",
      "2018-01-01               81.450          0.024851               48.780         -0.424798   -0.199974\n",
      "2018-02-01               79.475          0.127305               84.805          0.232094    0.179699\n",
      "2018-03-01               70.500         -0.194516               68.830         -0.028579   -0.111548\n",
      "2018-04-01               87.525          0.128627               70.855         -0.078369    0.025129\n",
      "2018-05-01               77.550         -0.171253               76.880          0.132170   -0.019542\n",
      "2018-06-01               93.575          0.132869               67.905         -0.253217   -0.060174\n",
      "2018-07-01               82.600         -0.127081               90.930          0.197156    0.035038\n",
      "2018-08-01               94.625          0.234508               75.955         -0.165146    0.034681\n",
      "2018-09-01               76.650         -0.094774               90.980          0.096079    0.000652\n",
      "2018-10-01               84.675         -0.000295               83.005         -0.057083   -0.028689\n",
      "2018-11-01               84.700          0.089739               88.030          0.274781    0.182260\n",
      "2018-12-01               77.725         -0.037461               69.055         -0.258111   -0.147786\n",
      "2018-01-13               80.750         -0.080034               93.080          0.068595   -0.005719\n",
      "2018-01-14               87.775          0.023019               87.105          0.159390    0.091205\n",
      "2018-01-15               85.800          0.211437               75.130         -0.157310    0.027063\n",
      "2018-01-16               70.825         -0.276188               89.155          0.155157   -0.060516\n",
      "2018-01-17               97.850          0.065034               77.180          0.148426    0.106730\n",
      "2018-01-18               91.875         -0.011033               67.205         -0.172658   -0.091846\n",
      "2018-01-19               92.900         -0.051315               81.230         -0.000308   -0.025811\n",
      "2018-01-20               97.925          0.194936               81.255          0.012145    0.103540\n",
      "2018-01-21               81.950         -0.146132               80.280         -0.174965   -0.160549\n",
      "2018-01-22               95.975          0.199687               97.305          0.211316    0.205502\n",
      "2018-01-23               80.000          0.193584               80.330          0.110220    0.151902\n",
      "2018-01-24               67.025         -0.279688               72.355         -0.271936   -0.275812\n",
      "2018-01-25               93.050          0.162036               99.380          0.411547    0.286792\n",
      "2018-01-26               80.075         -0.121021               70.405         -0.041196   -0.081108\n",
      "2018-01-27               91.100          0.010818               73.430         -0.230737   -0.109959\n",
      "2018-01-28               90.125          0.010937               95.455         -0.020773   -0.004918\n",
      "2018-01-29               89.150         -0.011367               97.480          0.089101    0.038867\n",
      "2018-01-30               90.175          0.231899               89.505          0.022564    0.127231\n",
      "...                         ...               ...                  ...               ...         ...\n",
      "2018-01-12               89.800          0.071279               82.130         -0.171701   -0.050211\n",
      "2018-02-12               83.825         -0.067056               99.155          0.236655    0.084799\n",
      "2018-03-12               89.850         -0.011279               80.180          0.025254    0.006987\n",
      "2018-04-12               90.875         -0.157785               78.205         -0.161161   -0.159473\n",
      "2018-05-12              107.900          0.199889               93.230          0.032962    0.116425\n",
      "2018-06-12               89.925         -0.042842               90.255          0.046071    0.001614\n",
      "2018-07-12               93.950         -0.010792               86.280         -0.011740   -0.011266\n",
      "2018-08-12               94.975         -0.050250               87.305          0.011294   -0.019478\n",
      "2018-09-12              100.000          0.052355               86.330         -0.104042   -0.025844\n",
      "2018-10-12               95.025          0.055247               96.355         -0.085642   -0.015198\n",
      "2018-11-12               90.050         -0.134759              105.380          0.049549   -0.042605\n",
      "2018-12-12              104.075          0.082986              100.405          0.052132    0.067559\n",
      "2018-12-13               96.100          0.031946               95.430         -0.030725    0.000611\n",
      "2018-12-14               93.125         -0.010887               98.455          0.010002   -0.000442\n",
      "2018-12-15               94.150         -0.010770               97.480          0.065297    0.027264\n",
      "2018-12-16               95.175         -0.010655               91.505         -0.000273   -0.005464\n",
      "2018-12-17               96.200         -0.076997               91.530          0.045400   -0.015798\n",
      "2018-12-18              104.225          0.117694               87.555         -0.043951    0.036872\n",
      "2018-12-19               93.250         -0.088242               91.580         -0.124516   -0.106379\n",
      "2018-12-20              102.275          0.073190              104.605          0.039501    0.056346\n",
      "2018-12-21               95.300          0.143714              100.630         -0.019726    0.061994\n",
      "2018-12-22               83.325         -0.193759              102.655          0.226757    0.016499\n",
      "2018-12-23              103.350         -0.000242               83.680         -0.160724   -0.080483\n",
      "2018-12-24              103.375          0.039990               99.705          0.086940    0.063465\n",
      "2018-12-25               99.400          0.030853               91.730          0.095218    0.063036\n",
      "2018-12-26               96.425          0.031835               83.755         -0.045853   -0.007009\n",
      "2018-12-27               93.450         -0.051028               87.780         -0.043843   -0.047436\n",
      "2018-12-28               98.475         -0.039268               91.805          0.164595    0.062663\n",
      "2018-12-29              102.500          0.095964               78.830         -0.177612   -0.040824\n",
      "2018-12-30               93.525               NaN               95.855               NaN    0.000000\n",
      "\n",
      "[364 rows x 5 columns]\n",
      "#------------------------------------------------------------------------------------------------------------------#\n"
     ]
    }
   ],
   "source": [
    "print('#------------------------------------------------------------------------------------------------------------------#')\n",
    "print('|' + centered('[INFO] Das Dataframe mit den Aktienkursen der Datensätze und deren jeweiligen Rendite ergibt sich wie folgt: ') + '| ')\n",
    "print('#------------------------------------------------------------------------------------------------------------------#')\n",
    "print(kurschart)\n",
    "print('#------------------------------------------------------------------------------------------------------------------#')"
   ]
  },
  {
   "cell_type": "markdown",
   "metadata": {},
   "source": [
    "## Portfolio-Renditedaten bereinigen und analysieren:"
   ]
  },
  {
   "cell_type": "markdown",
   "metadata": {},
   "source": [
    "Da wir für unsere Simulationsverfahren fortan die Portfolio-Rendite benötigen, speichern wir diese zunächst in einer Liste und führen anschließend eine Bereinigung (um NaN-Werte) durch."
   ]
  },
  {
   "cell_type": "code",
   "execution_count": 30,
   "metadata": {},
   "outputs": [],
   "source": [
    "values_PF = kurschart['Rendite-PF'].values.tolist()\n",
    "values_PF = np.array(values_PF)\n",
    "values_PF = values_PF[np.logical_not(np.isnan(values_PF))]"
   ]
  },
  {
   "cell_type": "markdown",
   "metadata": {},
   "source": [
    "Jetzt ermitteln wir den Erwartungswert aus den Portfolio-Renditedaten. Dazu nutzen wir das Modul `Numpy` und lassen uns den so ermittelten Erwartungswert anschließend ausgeben."
   ]
  },
  {
   "cell_type": "code",
   "execution_count": 32,
   "metadata": {},
   "outputs": [
    {
     "name": "stdout",
     "output_type": "stream",
     "text": [
      "#------------------------------------------------------------------------------------------------------------------#\n",
      "|                 [INFO] Die Porfolio-Rendite hat einen Erwartunswert i.H.v. 0.007146102967529755.                 | \n",
      "#------------------------------------------------------------------------------------------------------------------#\n"
     ]
    }
   ],
   "source": [
    "mu_PF = np.mean(values_PF)\n",
    "\n",
    "print('#------------------------------------------------------------------------------------------------------------------#')\n",
    "print('|' + centered('[INFO] Die Porfolio-Rendite hat einen Erwartunswert i.H.v. ' + str(mu_PF) + '.') + '| ')\n",
    "print('#------------------------------------------------------------------------------------------------------------------#')"
   ]
  },
  {
   "cell_type": "markdown",
   "metadata": {},
   "source": [
    "Äquivalent verfahren wir mit der Standardabweichung."
   ]
  },
  {
   "cell_type": "code",
   "execution_count": 33,
   "metadata": {},
   "outputs": [
    {
     "name": "stdout",
     "output_type": "stream",
     "text": [
      "#------------------------------------------------------------------------------------------------------------------#\n",
      "|                [INFO] Das Porfolio hat somit eine Standardabweichung i.H.v. 0.09296443448891611.                 | \n",
      "#------------------------------------------------------------------------------------------------------------------#\n"
     ]
    }
   ],
   "source": [
    "std_PF = np.std(values_PF)\n",
    "\n",
    "print('#------------------------------------------------------------------------------------------------------------------#')\n",
    "print('|' + centered('[INFO] Das Porfolio hat somit eine Standardabweichung i.H.v. ' + str(std_PF) + '.') + '| ')\n",
    "print('#------------------------------------------------------------------------------------------------------------------#')"
   ]
  },
  {
   "cell_type": "code",
   "execution_count": 34,
   "metadata": {},
   "outputs": [],
   "source": [
    "mu = mu_PF # Erwartungsawert\n",
    "sigma = std_PF # Standardabweichung"
   ]
  },
  {
   "cell_type": "markdown",
   "metadata": {},
   "source": [
    "Um den Start- und Endwert beider Simulationsverfahren sinnvoll zu begrenzen, ermitteln wir den kleinsten und größten Rendite-Wert der im DataFrame \"kurschart\" vorhanden ist."
   ]
  },
  {
   "cell_type": "code",
   "execution_count": 35,
   "metadata": {},
   "outputs": [],
   "source": [
    "mini_values_PF = min(values_PF) # Minimum aus den PF-Realisationen\n",
    "maxi_values_PF = max(values_PF) # Maximum aus den PF-Realisationen"
   ]
  },
  {
   "cell_type": "markdown",
   "metadata": {},
   "source": [
    "## Abfragefunktion definieren:"
   ]
  },
  {
   "cell_type": "markdown",
   "metadata": {},
   "source": [
    "Nun definieren wir eine nützliche Funktion mit deren Hilfe wir die Granularität der jeweiligen Verteilungsfunktion bestimmen können.\n",
    "Standardmäßig wird die höchste Granularität gewählt, d.h. jede einzelne Realsation wird einzeln erfasst, sodass die Verteilungsfunktion eine sehr hohe Genauigkeit aufweist.\n",
    "Dies muss jedoch nicht immer sinnvoll sein, weshalb wir diese in einem gewissen Umfang auch selbst bestimmen wollen.\n",
    "Im Grunde fragt uns die Funktion ob eine Anpassung vorgenommen werden soll oder nicht und wenn ja, welche. \n",
    "Im Falle das eine Anpassung vorgenommen wird, wird eine Eingabe erwartet, welche dann weitergeleitet wird."
   ]
  },
  {
   "cell_type": "code",
   "execution_count": 36,
   "metadata": {},
   "outputs": [],
   "source": [
    "def abfrage():\n",
    "    abfrage = None\n",
    "    while abfrage not in ('Ja', 'Nein', 'ja', 'nein', 'j', 'n'):\n",
    "        abfrage = input('|' + centered('[EINGABE] Möchten Sie die Granularität anpassen? Geben Sie \"Ja\" oder \"Nein\" ein: ') + '| ')        \n",
    "        if abfrage == 'Nein' or abfrage == 'nein' or abfrage == 'n':\n",
    "            return len(values_PF)\n",
    "        elif abfrage == 'Ja' or abfrage == 'ja' or abfrage == 'j':\n",
    "            return int(input('|' + centered('[EINGABE] Geben sie eine Zahl zwischen ' + str(round(len(values_PF)/10)) + ' und ' + str(len(values_PF)) + ' ein') + '| '))    \n",
    "        else:\n",
    "            print('|' + centered('[WARNUNG] Geben Sie \"Ja\" oder \"Nein\" ein! ') + '| ')"
   ]
  },
  {
   "cell_type": "markdown",
   "metadata": {},
   "source": [
    "## Verteilungsfunktionen definieren und plotten:"
   ]
  },
  {
   "cell_type": "markdown",
   "metadata": {},
   "source": [
    "Im letzten Schritt gilt es nun alle Informationen zusammenzutragen und die beiden Verteilungsfunktionen zu zeichnen."
   ]
  },
  {
   "cell_type": "code",
   "execution_count": 37,
   "metadata": {},
   "outputs": [
    {
     "name": "stdout",
     "output_type": "stream",
     "text": [
      "#------------------------------------------------------------------------------------------------------------------#\n",
      "|                [EINGABE] Möchten Sie die Granularität anpassen? Geben Sie \"Ja\" oder \"Nein\" ein:                  | n\n",
      "#------------------------------------------------------------------------------------------------------------------#\n"
     ]
    },
    {
     "data": {
      "image/png": "[encoded data removed]",
      "text/plain": [
       "<Figure size 720x540 with 1 Axes>"
      ]
     },
     "metadata": {
      "needs_background": "light"
     },
     "output_type": "display_data"
    }
   ],
   "source": [
    "# Funktion aufrufen\n",
    "print('#------------------------------------------------------------------------------------------------------------------#')\n",
    "bins = abfrage()\n",
    "print('#------------------------------------------------------------------------------------------------------------------#')\n",
    "\n",
    "#-----------------------------------------------------------------------------------------------------------------------------------------------------\n",
    "# Historische Simulation\n",
    "\n",
    "H, X1 = np.histogram(values_PF, bins, density=True)\n",
    "dx = X1[1] - X1[0]\n",
    "F1 = np.cumsum(H)*dx\n",
    "plt.plot(X1[1:], F1)\n",
    "\n",
    "#-----------------------------------------------------------------------------------------------------------------------------------------------------\n",
    "# Varianz-Kovarianz-Methode\n",
    "\n",
    "x = np.linspace(mini_values_PF, maxi_values_PF, bins) #len(values_PF)) # Erzeuge eine Range vom Minimum der PF-Realisationen bis zum Maximum\n",
    "#x = np.linspace(mini_values_PF, maxi_values_PF, len(values_PF)) # Erzeuge eine Range vom Minimum der PF-Realisationen bis zum Maximum\n",
    "plt.plot(x, stats.norm.cdf(x, mu, sigma)) # Plotte die Verteilungfunkton für diese Range mit den geschätzten Parametern aus dem Datensatz\n",
    "\n",
    "#-----------------------------------------------------------------------------------------------------------------------------------------------------\n",
    "# Weitere Einstellungen der Grafik\n",
    "\n",
    "plt.grid() # Zeichne ein Gitternetz\n",
    "plt.xlabel('Rendite') # Beschrifte die x-Achse \n",
    "plt.ylabel('Wahrscheinlichkeit') # Beschrifte die y-Achse \n",
    "blue_patch = mpatches.Patch(color='blue', label='Historische Simulation') # Lege den Legendeneintrag für die historische Simulation manuell an\n",
    "orange_patch = mpatches.Patch(color='orange', label='Varianz-Kovarianzmethode')  # Lege den Legendeneintrag für die Varianz-Kovarianz-Methode manuell an\n",
    "plt.legend(handles=[orange_patch, blue_patch]) # Füge die Legende zur Grafik hinzu\n",
    "plt.title('Verteilungsfunktion: Historische Simulation versus Varianz-Kovarianz-Methode') # Beschriftung der Grafik\n",
    "plt.axhline(0, color='black') # Zeichne die x-Achse\n",
    "plt.axvline(0, color='black') # Zeiche die y-Achse\n",
    "plt.show() # Zeige die gesamte Grafik"
   ]
  },
  {
   "cell_type": "code",
   "execution_count": null,
   "metadata": {},
   "outputs": [],
   "source": []
  }
 ],
 "metadata": {
  "kernelspec": {
   "display_name": "Python 3",
   "language": "python",
   "name": "python3"
  },
  "language_info": {
   "codemirror_mode": {
    "name": "ipython",
    "version": 3
   },
   "file_extension": ".py",
   "mimetype": "text/x-python",
   "name": "python",
   "nbconvert_exporter": "python",
   "pygments_lexer": "ipython3",
   "version": "3.7.3"
  }
 },
 "nbformat": 4,
 "nbformat_minor": 4
}
