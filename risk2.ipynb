{
 "cells": [
  {
   "cell_type": "markdown",
   "metadata": {},
   "source": [
    "# Monte-Carlo-Simulation"
   ]
  },
  {
   "cell_type": "markdown",
   "metadata": {},
   "source": [
    "© Thomas Robert Holy 2019\n",
    "<br>\n",
    "Version 0.1.4"
   ]
  },
  {
   "cell_type": "markdown",
   "metadata": {},
   "source": [
    "## Grundlegende Einstellungen:"
   ]
  },
  {
   "cell_type": "markdown",
   "metadata": {},
   "source": [
    "Zunächst müssen die notwendigen Pakete (auch Module) importiert werden, damit auf diese zugegriffen werden kann. "
   ]
  },
  {
   "cell_type": "code",
   "execution_count": null,
   "metadata": {},
   "outputs": [],
   "source": [
    "import scipy.stats as st # SciPy ist ein Python-basiertes Ökosystem für Open-Source-Software für Mathematik, Naturwissenschaften und Ingenieurwissenschaften\n",
    "from scipy.stats import rankdata, norm  \n",
    "from scipy import array, linalg, dot\n",
    "import random # Dieses modul wird verwendet um Zufallszahlen zu ziehen\n",
    "import numpy as np # Programmbibliothek die eine einfache Handhabung von Vektoren, Matrizen oder generell großen mehrdimensionalen Arrays ermöglicht\n",
    "import math # Dieses Modul wird verwendet um Skalardaten zu berechnen, z. B. trigonometrische Berechnungen.\n",
    "import operator # Programmbibliothek, welche die Ausgaben übersichtlicher gestaltet\n",
    "import matplotlib.pyplot as plt # Programmbibliothek die es erlaubt mathematische Darstellungen aller Art anzufertigen\n",
    "import matplotlib.patches as mpatches"
   ]
  },
  {
   "cell_type": "markdown",
   "metadata": {},
   "source": [
    "Anschließend werden Einstellungen definiert, die die Formatierung der Ausgaben betreffen.\n",
    "Hierfür wird das Modul `operator` genutzt.\n",
    "Außerdem wird die Breite des im Folgenden genutzten DataFrames erhöht und die Größe der Grafiken modifiziert, welche später angezeigt werden sollen."
   ]
  },
  {
   "cell_type": "code",
   "execution_count": null,
   "metadata": {},
   "outputs": [],
   "source": [
    "%%javascript\n",
    "IPython.OutputArea.auto_scroll_threshold = 9999;"
   ]
  },
  {
   "cell_type": "code",
   "execution_count": null,
   "metadata": {},
   "outputs": [],
   "source": [
    "from IPython.core.display import display, HTML\n",
    "display(HTML(\"<style>.container { width:100% !important; }</style>\"))\n",
    "\n",
    "SCREEN_WIDTH = 114\n",
    "centered = operator.methodcaller('center', SCREEN_WIDTH)\n",
    "\n",
    "plt.rcParams[\"figure.figsize\"] = 15,15"
   ]
  },
  {
   "cell_type": "markdown",
   "metadata": {},
   "source": [
    "## Monte-Carlo Simulation:"
   ]
  },
  {
   "cell_type": "markdown",
   "metadata": {},
   "source": [
    "### Variablen spezifizieren"
   ]
  },
  {
   "cell_type": "markdown",
   "metadata": {},
   "source": [
    "Im ersten Schritt werden die für die Simulation notwenigen Variablen definiert."
   ]
  },
  {
   "cell_type": "code",
   "execution_count": null,
   "metadata": {},
   "outputs": [],
   "source": [
    "#----------------------------------------------------\n",
    "# Anzahl Simulationsdurchläufe\n",
    "n = 10000\n",
    "\n",
    "#----------------------------------------------------\n",
    "# Neue Randverteilungen (Gleichverteilung)\n",
    "rand_x = [10,20]\n",
    "rand_y = [8,22]\n",
    "\n",
    "#----------------------------------------------------\n",
    "# Varianzen/Standardabweichungen und Korrelation(en)\n",
    "var_x = 4 \n",
    "var_y = 9\n",
    "\n",
    "corr_list = [0]\n",
    "std_list = [math.sqrt(var_x),math.sqrt(var_y)]\n",
    "\n",
    "#----------------------------------------------------\n",
    "# Erwartungswerte\n",
    "mu = [2, 3]"
   ]
  },
  {
   "cell_type": "markdown",
   "metadata": {},
   "source": [
    "### Funktionen definieren"
   ]
  },
  {
   "cell_type": "markdown",
   "metadata": {},
   "source": [
    "Als nächstes werden Funktionen definiert, welche aus den gegeben Varianzen und ggf. Korrelationen eine Varianz-Kovarianz-Matrix berechnen, ein Array mit den Varianzen anlegen und die Cholesky-Zerlegung durchführen."
   ]
  },
  {
   "cell_type": "code",
   "execution_count": null,
   "metadata": {},
   "outputs": [],
   "source": [
    "#---------------------------------------------------------------------------------------------------------------\n",
    "# Varianz-Kovarianz-Matrix erstellen\n",
    "\n",
    "def var_covar_matrix_func(std,corr):\n",
    "    global var_covar\n",
    "    global var_list\n",
    "    \n",
    "    i = 0\n",
    "    j = 0\n",
    "    counter0 = 0\n",
    "    counter1 = 0    \n",
    "    len_std_list = len(std_list)\n",
    "    array = [[0] * len_std_list] * len_std_list    \n",
    "    val_list = []\n",
    "    \n",
    "    for i in range(0,len_std_list):\n",
    "        for j in range(0,len_std_list):\n",
    "            if i == j:\n",
    "                val = std_list[i] * std_list[i]\n",
    "                val_list.append(val)\n",
    "            if i < j:\n",
    "                val = (std_list[i] * std_list[j] * corr[counter0])\n",
    "                counter0 += 1\n",
    "                val_list.append(val)\n",
    "            if i > j:\n",
    "                val = (std_list[i] * std_list[j] * corr[counter1])\n",
    "                counter1 += 1\n",
    "                val_list.append(val)\n",
    "    var_covar = np.array(val_list).reshape(len_std_list,len_std_list)   \n",
    "    \n",
    "#---------------------------------------------------------------------------------------------------------------\n",
    "# Varianz-Array erstellen\n",
    "\n",
    "def var_func():\n",
    "    global var_list\n",
    "    var_list = []    \n",
    "    for i in range(0,len(std_list)):\n",
    "        var = np.power(std_list[i],2)\n",
    "        var_list.append(var)\n",
    "\n",
    "#---------------------------------------------------------------------------------------------------------------\n",
    "# Cholesky-Zerlegung durchführen\n",
    "\n",
    "def cholesky_func():\n",
    "    global cholesky\n",
    "    cholesky = linalg.cholesky(var_covar, lower=True)\n",
    "\n",
    "#---------------------------------------------------------------------------------------------------------------   \n",
    "# Funktionen aufrufen\n",
    "\n",
    "var_func()\n",
    "var_covar_matrix_func(std_list,corr_list)\n",
    "cholesky_func()"
   ]
  },
  {
   "cell_type": "markdown",
   "metadata": {},
   "source": [
    "### Monte-Carlo-Funktion definieren"
   ]
  },
  {
   "cell_type": "markdown",
   "metadata": {},
   "source": [
    "Nun wird eine Funktion definiert, über welche die Simulation durchgeführt wird. \n",
    "Dabei werden zunächst zwei gleichverteilte Pseudo-Zufallsvariablen generiert, welche anschließend in unabhängige standardnormalverteilte Zufallsvariablen transformiert werden.\n",
    "Letztere werden unter Anwendung der Cholesky-Zerlegung in abhängige standardnormalverteilte Zufallsvariablen überführt.\n",
    "Danach werden diese unter Anwendung der oben definierten Standardabweichung und des Erwartungswertes in Realisationen der Gauss-Copula überführt, bevor auf diese anschließend die neuen Randverteilungen angewendet werden.\n",
    "Zum Schluss wird die Summe aus beiden Realisationen gebildet, welche den Portfolio-Wert ergibt."
   ]
  },
  {
   "cell_type": "code",
   "execution_count": null,
   "metadata": {},
   "outputs": [],
   "source": [
    "total_standard_norm_ab_list = []\n",
    "total_realisation_cop_list = []\n",
    "total_xy_list = []\n",
    "total_summe_liste = []\n",
    "\n",
    "def copula_sim(n, rand_x, rand_y, mu):\n",
    "    global total_standard_norm_ab_list\n",
    "    global total_realisation_cop_list\n",
    "    global total_xy_list\n",
    "    global total_summe_liste\n",
    "    \n",
    "    for i in range(0,n):        \n",
    "        #---------------------------------------------------------------------------------------------------------------\n",
    "        # Gleichverteilte Zufallsvariablen ziehen\n",
    "        \n",
    "        n = 2\n",
    "        random_ZV_list = []        \n",
    "        for i in range(0,n):\n",
    "            x = random.random()\n",
    "            random_ZV_list.append(x)\n",
    "        \n",
    "        #---------------------------------------------------------------------------------------------------------------\n",
    "        # Transformation der gleichverteilten Zufallsvariablen in unabhängige standardnormalverteilte Zufallsvariablen\n",
    "\n",
    "        standard_norm_list = norm.ppf(random_ZV_list)        \n",
    "        \n",
    "        #---------------------------------------------------------------------------------------------------------------\n",
    "        # Transformation in standardnormalvertzeilte abhängie ZV\n",
    "        \n",
    "        standard_norm_ab_list = []\n",
    "        counter_cholesky_0 = 0\n",
    "        counter_cholesky_1 = 0\n",
    "        counter_mu = 0\n",
    "        counter_standard_norm_list = 0\n",
    "\n",
    "        for i in range(0,2):\n",
    "            a = cholesky[counter_cholesky_0][counter_cholesky_1] * standard_norm_list[counter_standard_norm_list]\n",
    "            counter_cholesky_1 += 1\n",
    "            counter_standard_norm_list += 1\n",
    "\n",
    "            b = cholesky[counter_cholesky_0][counter_cholesky_1] * standard_norm_list[counter_standard_norm_list]\n",
    "            counter_cholesky_0 += 1  \n",
    "            counter_cholesky_1 = 0\n",
    "            counter_standard_norm_list = 0  \n",
    "\n",
    "            r = a  + b + mu[counter_mu]\n",
    "            standard_norm_ab_list.append(r)\n",
    "            counter_mu += 1\n",
    "\n",
    "        #---------------------------------------------------------------------------------------------------------------\n",
    "        # Transformation Realisationen der Gauss-Copula\n",
    "\n",
    "        counter = 0\n",
    "        realisation_cop_list = []        \n",
    "        for i in range(0,2):\n",
    "            r_cop = (standard_norm_ab_list[counter] - mu[counter]) / math.sqrt(var_list[counter])   \n",
    "            p_value = st.norm.cdf(r_cop)\n",
    "            realisation_cop_list.append(p_value)\n",
    "            counter += 1\n",
    "            \n",
    "        #---------------------------------------------------------------------------------------------------------------\n",
    "        # Gemeinsame Verteilung: Übertragung der neuen Ränder auf die ermittelte Abhängigkeitsstruktur          \n",
    "\n",
    "        x = (rand_x[0]-rand_x[1]) * realisation_cop_list[0] + rand_x[1]\n",
    "        y = (rand_y[0]-rand_y[1]) * realisation_cop_list[1] + rand_y[1]\n",
    "        summe = x + y        \n",
    "        xy = (x,y)\n",
    "        \n",
    "        total_standard_norm_ab_list.append(standard_norm_ab_list)\n",
    "        total_realisation_cop_list.append(realisation_cop_list)\n",
    "        total_xy_list.append(xy)\n",
    "        total_summe_liste.append(summe)\n",
    "        \n",
    "copula_sim(n, rand_x, rand_y, mu)"
   ]
  },
  {
   "cell_type": "markdown",
   "metadata": {},
   "source": [
    "# Graphische Ausgaben"
   ]
  },
  {
   "cell_type": "markdown",
   "metadata": {},
   "source": [
    "## Realisationen abhängiger bivariat normalverteilter Zufallsvariablen"
   ]
  },
  {
   "cell_type": "code",
   "execution_count": null,
   "metadata": {},
   "outputs": [],
   "source": [
    "#----------------------------------------------------------\n",
    "# Realisationen abhängiger bivariat normalverteilter Zufallsvariablen\n",
    "\n",
    "counter_1 = 0\n",
    "counter_2 = 0\n",
    "x_liste = []\n",
    "y_liste = []\n",
    "\n",
    "for i in range(0,len(total_standard_norm_ab_list)):\n",
    "    x = total_standard_norm_ab_list[counter_1][0]\n",
    "    y = total_standard_norm_ab_list[counter_1][1]\n",
    "    x_liste.append(x)\n",
    "    y_liste.append(y)\n",
    "    counter_1 += 1\n",
    "    counter_2 += 1\n",
    "\n",
    "plt.scatter(x_liste, y_liste)\n",
    "plt.grid()\n",
    "plt.xlabel('Realisation X')\n",
    "plt.ylabel('Realisation Y')\n",
    "plt.title('Realisationen abhängiger bivariat normalverteilter Zufallsvariablen')\n",
    "plt.axhline(0, color='black')\n",
    "plt.axvline(0, color='black')\n",
    "plt.show()"
   ]
  },
  {
   "cell_type": "markdown",
   "metadata": {},
   "source": [
    "## Realisationen Gauss-Copula"
   ]
  },
  {
   "cell_type": "code",
   "execution_count": null,
   "metadata": {},
   "outputs": [],
   "source": [
    "#----------------------------------------------------------\n",
    "# Realisationen Gauss-Copula\n",
    "\n",
    "counter_1 = 0\n",
    "counter_2 = 0\n",
    "x_liste = []\n",
    "y_liste = []\n",
    "\n",
    "for i in range(0,len(total_realisation_cop_list)):\n",
    "    x = total_realisation_cop_list[counter_1][0]\n",
    "    y = total_realisation_cop_list[counter_1][1]\n",
    "    x_liste.append(x)\n",
    "    y_liste.append(y)\n",
    "    counter_1 += 1\n",
    "    counter_2 += 1\n",
    "\n",
    "plt.scatter(x_liste, y_liste)\n",
    "plt.grid()\n",
    "plt.xlabel('Realisation X')\n",
    "plt.ylabel('Realisation Y')\n",
    "plt.title('Realisationen Gauss-Copula')\n",
    "plt.axhline(0, color='black')\n",
    "plt.axvline(0, color='black')\n",
    "plt.show()\n"
   ]
  },
  {
   "cell_type": "markdown",
   "metadata": {},
   "source": [
    "## Realisationen gleichverteilte X, Y mit Gauss-Copula"
   ]
  },
  {
   "cell_type": "code",
   "execution_count": null,
   "metadata": {},
   "outputs": [],
   "source": [
    "#----------------------------------------------------------\n",
    "# Realisationen gleichverteilte X, Y mit Gauss-Copula\n",
    "\n",
    "counter_1 = 0\n",
    "counter_2 = 0\n",
    "x_liste = []\n",
    "y_liste = []\n",
    "\n",
    "for i in range(0,len(total_xy_list)):\n",
    "    x = total_xy_list[counter_1][0]\n",
    "    y = total_xy_list[counter_1][1]\n",
    "    x_liste.append(x)\n",
    "    y_liste.append(y)\n",
    "    counter_1 += 1\n",
    "    counter_2 += 1\n",
    "\n",
    "plt.scatter(x_liste, y_liste)\n",
    "plt.grid()\n",
    "plt.xlabel('Realisation X')\n",
    "left, right = plt.xlim()\n",
    "plt.xlim((left, right))   \n",
    "plt.xlim(left, right)     \n",
    "left, right = plt.ylim()\n",
    "plt.ylim((left, right)) \n",
    "plt.ylim(left, right)     \n",
    "plt.ylabel('Realisation Y')\n",
    "plt.title('Realisationen gleichverteilte X, Y mit Gauss-Copula')\n",
    "plt.axhline(0, color='black')\n",
    "plt.axvline(0, color='black')\n",
    "plt.show()"
   ]
  },
  {
   "cell_type": "markdown",
   "metadata": {},
   "source": [
    "## Histogramm X+Y, Realisationen gleichverteilte X, Y mit Gauss-Copula"
   ]
  },
  {
   "cell_type": "code",
   "execution_count": null,
   "metadata": {},
   "outputs": [],
   "source": [
    "#----------------------------------------------------------\n",
    "# Histogramm X+Y, Realisationen gleichverteilte X, Y mit Gauss-Copula\n",
    "\n",
    "values_PF = total_summe_liste\n",
    "bins = n\n",
    "\n",
    "H, X1 = np.histogram(values_PF, bins, density=True)\n",
    "dx = X1[1] - X1[0]\n",
    "F1 = np.cumsum(H)*dx\n",
    "plt.plot(X1[1:], F1)\n",
    "\n",
    "plt.grid()\n",
    "plt.xlabel('PF-Realisation')\n",
    "plt.ylabel('Wahrscheinlichkeit')\n",
    "left, right = plt.xlim()\n",
    "plt.xlim((left, right))\n",
    "plt.xlim(left, right)\n",
    "blue_patch = mpatches.Patch(color='blue', label='Monte-Carlo Simulation')\n",
    "plt.legend(handles=[blue_patch], loc='upper left')\n",
    "plt.title('Histogram X+Y, Realisationen gleichverteilte X,Y mit Gauss-Copula')\n",
    "plt.axhline(0, color='black')\n",
    "plt.axvline(0, color='black')\n",
    "plt.show()"
   ]
  },
  {
   "cell_type": "markdown",
   "metadata": {},
   "source": [
    "## Verteilung X+Y, Realisationen gleichverteilte X, Y mit Gauss-Copula"
   ]
  },
  {
   "cell_type": "code",
   "execution_count": null,
   "metadata": {},
   "outputs": [],
   "source": [
    "#----------------------------------------------------------\n",
    "# Verteilung X+Y, Realisationen gleichverteilte X, Y mit Gauss-Copula\n",
    "\n",
    "bins = 71\n",
    "\n",
    "data = total_summe_liste\n",
    "plt.hist(data, bins)\n",
    "plt.grid()\n",
    "plt.title('Verteilung X+Y, Realisationen gleichverteilte X,Y mit Gauss-Copula')\n",
    "plt.xlabel('PF-Realisation')\n",
    "plt.ylabel('Anzahl')\n",
    "plt.show()"
   ]
  },
  {
   "cell_type": "markdown",
   "metadata": {},
   "source": [
    "## Risikomaäße schätzen"
   ]
  },
  {
   "cell_type": "markdown",
   "metadata": {},
   "source": [
    "### Value at Risk"
   ]
  },
  {
   "cell_type": "markdown",
   "metadata": {},
   "source": [
    "Um den Value at Risk zu bestimmen, werden die Portfolio-Realisationen zunächst der Größe nach sortiert, wobei dieser Schritt gleichzeitig der Ausgangspunkt für die Berechnung des Conditional Value at Risk ist.\n",
    "Anschließend wird das Alpha-Quantil der Verlustfunktion bestimmt, indem der Parameter \"alpha\" mit der Länge der Liste \"RM_list\" multipliziert wird. Der so ermittelte Wert gibt die Position in der Liste \"RM_list\" an, an welcher sich der Value at Risk zum Konfidenzniveau \"alpha\" befindet."
   ]
  },
  {
   "cell_type": "code",
   "execution_count": null,
   "metadata": {},
   "outputs": [],
   "source": [
    "RM_list = sorted(values_PF)\n",
    "\n",
    "def VaR(alpha):\n",
    "    item = int((alpha * len(RM_list)))\n",
    "    VaR = RM_list[item]\n",
    "    print('#------------------------------------------------------------------------------------------------------------------#')\n",
    "    print('|' + centered('Der VaR beträgt: ' + str(VaR) + '.') + '| ')"
   ]
  },
  {
   "cell_type": "markdown",
   "metadata": {},
   "source": [
    "### Conditional Value at Risk"
   ]
  },
  {
   "cell_type": "markdown",
   "metadata": {},
   "source": [
    "Der Conditional Value at Risk wird grundsätzlich wie der Value at Risk bestimmt, jedoch wird hier der Mittelwert über alle Realisationen bis zum Alpha-Quantil bebildet. \n",
    "Daher wird hier nach der Positionsbestimmung eine Liste mit Realisationen generiert, welche den Bereich von der Kleinsten bis zum Alpha-Quantil abdeckt. Diese Liste wird anschließend durch die Anzahl ihrer Elemente geteilt."
   ]
  },
  {
   "cell_type": "code",
   "execution_count": null,
   "metadata": {},
   "outputs": [],
   "source": [
    "def CVaR(alpha):\n",
    "    item = int((alpha * len(RM_list)))\n",
    "    CVaR_list = RM_list[0:item]     \n",
    "    CVaR = np.sum(CVaR_list) / len(CVaR_list)\n",
    "    print('#------------------------------------------------------------------------------------------------------------------#')\n",
    "    print('|' + centered('Der CVaR beträgt: ' + str(CVaR) + '.') + '| ')"
   ]
  },
  {
   "cell_type": "markdown",
   "metadata": {},
   "source": [
    "### Power-Spektrales Risikomaß"
   ]
  },
  {
   "cell_type": "markdown",
   "metadata": {},
   "source": [
    "Für das Power-Spektrale Risikomaß ergibt sich der Erwartungswert aus dem Mittelwert der \"RM_list\" (der Mittelwert der Portfolio-Realisationen) und das Risiko ergibt sich aus dem Matrixprodukt der transponierten \"RM_list\" mit der \"subj_ws_list\", welche subjektive Wahrscheinlichkeiten beinhaltet.\n",
    "Die Elemente letzterer Liste werden berechnet, indem jede Realisation (hier 1 bis 10.000) durch die Gesamtanzahl der Realisationen (hier: 10.000) geteilt und dann mit \"gamma\" potenziert wird (daher heißt es Power-Sepktrales Risikomaß).\n",
    "Dabei ist bei jeder Berechnung der jeweils vorher errechnete Wert zu subtrahieren."
   ]
  },
  {
   "cell_type": "code",
   "execution_count": null,
   "metadata": {},
   "outputs": [],
   "source": [
    "def power(gamma):\n",
    "    EW = np.mean(RM_list)\n",
    "    print('#------------------------------------------------------------------------------------------------------------------#')\n",
    "    print('|' + centered('Power-Spektrales Risikomaß bei der historischen Simulation:') + '| ')\n",
    "    print('#------------------------------------------------------------------------------------------------------------------#')\n",
    "    print('|' + centered('Der Erwartungswert beträgt: ' + str(EW) + '.') + '| ')\n",
    "\n",
    "    subj_ws_list = []\n",
    "    counter1 = len(RM_list)\n",
    "    counter2 = len(RM_list)-1\n",
    "    for i in RM_list:\n",
    "        subj_ws = (np.power((counter1 / len(RM_list)), gamma)) - (np.power((counter2 / len(RM_list)), gamma)) \n",
    "        counter1 -= 1\n",
    "        counter2 -= 1\n",
    "        subj_ws_list.append(subj_ws)\n",
    "    subj_ws_list = subj_ws_list[::-1]\n",
    "    risk = np.matmul(np.transpose(RM_list), subj_ws_list)\n",
    "    print('|' + centered('Das Risiko beträgt: ' + str(risk) + '.') + '| ')\n",
    "    print('#------------------------------------------------------------------------------------------------------------------#')"
   ]
  },
  {
   "cell_type": "markdown",
   "metadata": {},
   "source": [
    "### Parameterfestlegung und Aufruf der Funktionen"
   ]
  },
  {
   "cell_type": "code",
   "execution_count": null,
   "metadata": {},
   "outputs": [],
   "source": [
    "alpha = 0.05\n",
    "VaR(alpha)\n",
    "\n",
    "alpha = 0.05\n",
    "CVaR(alpha)\n",
    "\n",
    "gamma = 0.5\n",
    "power(gamma)"
   ]
  },
  {
   "cell_type": "markdown",
   "metadata": {},
   "source": [
    "## Inkonsistenz Monte-Carlo Simulation"
   ]
  },
  {
   "cell_type": "markdown",
   "metadata": {},
   "source": [
    "Eins der Probleme der Monte-Carlo Simulation ist deren Inskonstenz sofern nur wenige Durchführungen in einem Simulationskauf vorgenommen werden.\n",
    "Dies soll die folgende Grafik veranschaulichen."
   ]
  },
  {
   "cell_type": "code",
   "execution_count": null,
   "metadata": {},
   "outputs": [],
   "source": [
    "total_summe_liste = []\n",
    "\n",
    "#-------------------------------------------\n",
    "# Variablen für den Simulationslauf\n",
    "\n",
    "rand_x = [10,20]\n",
    "rand_y = [8,22]\n",
    "var_x = 4 \n",
    "var_y = 9\n",
    "corr_list = [0]\n",
    "std_list = [math.sqrt(var_x),math.sqrt(var_y)]\n",
    "mu = [2, 3]\n",
    "\n",
    "#-------------------------------------------\n",
    "# Funktionsaufruf\n",
    "\n",
    "var_func()\n",
    "var_covar_matrix_func(std_list,corr_list)\n",
    "cholesky_func()\n",
    "\n",
    "#-------------------------------------------------------------------------\n",
    "# Wiederholungen der Simulationen\n",
    "\n",
    "runs_sim = 100 # Legt die Anzahl der Durchläufe einer Simulation fest\n",
    "runs_func = 5 # Legt fest, wie viele Simulationen durchgeführt werden\n",
    "\n",
    "for i in range(0,runs_func):\n",
    "    copula_sim(runs_sim, rand_x, rand_y, mu)\n",
    "\n",
    "#-------------------------------------------\n",
    "counter0 = 0\n",
    "counter1 = runs_sim\n",
    "array = []\n",
    "for i in range(0,runs_func):\n",
    "    x = total_summe_liste[counter0:counter1]\n",
    "    array.append(x)\n",
    "    counter0 += runs_sim\n",
    "    counter1 += runs_sim"
   ]
  },
  {
   "cell_type": "code",
   "execution_count": null,
   "metadata": {},
   "outputs": [],
   "source": [
    "for items in array:\n",
    "    values_PF = items\n",
    "    bins = runs_sim\n",
    "\n",
    "    H, X1 = np.histogram(values_PF, bins, density=True)\n",
    "    dx = X1[1] - X1[0]\n",
    "    F1 = np.cumsum(H)*dx\n",
    "    plt.plot(X1[1:], F1)\n",
    "\n",
    "plt.grid()\n",
    "plt.xlabel('PF-Realisation')\n",
    "plt.ylabel('Wahrscheinlichkeit')\n",
    "left, right = plt.xlim()\n",
    "plt.xlim((left, right))\n",
    "plt.xlim(left, right)\n",
    "black_patch = mpatches.Patch(color='black', label='Monte-Carlo Simulationen')\n",
    "plt.legend(handles=[black_patch], loc='upper left')\n",
    "plt.title('Histogram X+Y, Realisationen gleichverteilte X,Y mit Gauss-Copula')\n",
    "plt.axhline(0, color='black')\n",
    "plt.axvline(0, color='black')\n",
    "plt.show()"
   ]
  },
  {
   "cell_type": "code",
   "execution_count": null,
   "metadata": {},
   "outputs": [],
   "source": []
  }
 ],
 "metadata": {
  "kernelspec": {
   "display_name": "Python 3",
   "language": "python",
   "name": "python3"
  },
  "language_info": {
   "codemirror_mode": {
    "name": "ipython",
    "version": 3
   },
   "file_extension": ".py",
   "mimetype": "text/x-python",
   "name": "python",
   "nbconvert_exporter": "python",
   "pygments_lexer": "ipython3",
   "version": "3.7.3"
  }
 },
 "nbformat": 4,
 "nbformat_minor": 2
}
