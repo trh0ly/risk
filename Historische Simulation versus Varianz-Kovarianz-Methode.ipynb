{
 "cells": [
  {
   "cell_type": "markdown",
   "metadata": {},
   "source": [
    "# Historische Simulation versus Varianz-Kovarianz-Methode\n",
    "© Thomas Robert Holy 2019\n",
    "<br>\n",
    "Version 1.2.2\n",
    "<br><br>\n",
    "Visit me on GitHub: https://github.com/trh0ly\n",
    "\n",
    "## Voraussetzungen:\n",
    "An dieser Stelle ist bereits alles vorbereitet.\n",
    "Das Notebook lässt sich bereits vollständig ausführen\n",
    "\n",
    "### Optional:\n",
    "Um ein Portfolio mit anderen Aktienkursen zusammenzustellen, können im Home-Verzeichnis .csv-Datein hochgeladen werden. Diese müssen die folgenden Kriterien erfüllen:\n",
    "<br>\n",
    "- Sie umfassen alle denselben Zeitraum\n",
    "<br>\n",
    "- Es wird ein Punkt zur Dezimaltrennung verwendet\n",
    "<br>\n",
    "- Es wird ein Komma zur Spaltentrennung verwendet\n",
    "<br>\n",
    "Abrufbar sind die Daten z.B. auf Yahoo Finance: https://de.finance.yahoo.com/\n",
    "\n",
    "## Grundlegende Einstellungen:\n",
    "Zunächst müssen die notwendigen Pakete (auch Module) importiert werden, damit auf diese zugegriffen werden kann. "
   ]
  },
  {
   "cell_type": "code",
   "execution_count": 1,
   "metadata": {},
   "outputs": [],
   "source": [
    "import numpy as np # Programmbibliothek die eine einfache Handhabung von Vektoren, Matrizen oder generell großen mehrdimensionalen Arrays ermöglicht\n",
    "import pandas as pd # Programmbibliothek die Hilfsmittel für die Verwaltung von Daten und deren Analyse anbietet\n",
    "import matplotlib.pyplot as plt # Programmbibliothek die es erlaubt mathematische Darstellungen aller Art anzufertigen\n",
    "import matplotlib.patches as mpatches\n",
    "import operator # Programmbibliothek, welche die Ausgaben übersichtlicher gestaltet\n",
    "import datetime as dt # Das datetime-Modul stellt Klassen bereit, mit denen Datums- und Uhrzeitangaben auf einfache und komplexe Weise bearbeitet werden können\n",
    "import sys # Dieses Modul bietet Zugriff auf einige Variablen, die vom Interpreter verwendet oder verwaltet werden, sowie auf Funktionen, die stark mit dem Interpreter interagieren\n",
    "from scipy import stats # SciPy ist ein Python-basiertes Ökosystem für Open-Source-Software für Mathematik, Naturwissenschaften und Ingenieurwissenschaften\n",
    "import prinzip\n",
    "from IPython.core.display import display, HTML"
   ]
  },
  {
   "cell_type": "markdown",
   "metadata": {},
   "source": [
    "Anschließend werden Einstellungen definiert, die die Formatierung der Ausgaben betreffen.\n",
    "Hierfür wird das Modul `operator` genutzt.\n",
    "Außerdem wird die Breite des im Folgenden genutzten DataFrames erhöht und die Größe der Grafiken modifiziert, welche später angezeigt werden sollen."
   ]
  },
  {
   "cell_type": "code",
   "execution_count": 2,
   "metadata": {},
   "outputs": [
    {
     "data": {
      "text/html": [
       "<style>.container { width:100% !important; }</style>"
      ],
      "text/plain": [
       "<IPython.core.display.HTML object>"
      ]
     },
     "metadata": {},
     "output_type": "display_data"
    }
   ],
   "source": [
    "display(HTML(\"<style>.container { width:100% !important; }</style>\"))\n",
    "SCREEN_WIDTH = 100\n",
    "centered = operator.methodcaller('center', SCREEN_WIDTH)\n",
    "pd.set_option('display.width', 125)\n",
    "plt.rcParams[\"figure.figsize\"] = 15,12.5"
   ]
  },
  {
   "cell_type": "markdown",
   "metadata": {},
   "source": [
    "## Datensätze einlesen und manipulieren:\n",
    "Nun werden Datensätze eingelesen.\n",
    "Die Datensätze werden manuell definiert und anschließend zum Array \"dateinamen\" hinzufügt.\n",
    "Standardmäßig werden zwei Datensätze (VOW3.DE, FME.DE) definiert und im Array \"dateinamen\" gespeichert.\n",
    "<br><br>\n",
    "Hinweis: An dieser Stelle können andere/weitere Datensätze eingelesen werden, sofern die entsprechenden Datensätze im Home-Verzeichnis hochgeladen wurden."
   ]
  },
  {
   "cell_type": "code",
   "execution_count": 3,
   "metadata": {},
   "outputs": [],
   "source": [
    "##########################################################################\n",
    "#-------------------------------------------------------------------------\n",
    "datensatz1 = 'VOW3.DE'\n",
    "datensatz2 = 'FME.DE'\n",
    "\n",
    "#--------------------------------------------------------\n",
    "# Hier können weitere Datensätze definiert werden.\n",
    "\n",
    "#datensatz3 = ''\n",
    "#datensatz4 = ''\n",
    "#datensatz5 = ''\n",
    "\n",
    "#--------------------------------------------------------\n",
    "# Diese müssen ggf. noch in diesem Array ergänzt werden.\n",
    "\n",
    "dateinamen = [datensatz1, datensatz2]\n",
    "#-------------------------------------------------------------------------\n",
    "##########################################################################"
   ]
  },
  {
   "cell_type": "markdown",
   "metadata": {},
   "source": [
    "Jetzt soll aus jedem eingelesen Datensatz der Aktienkurs zum jeweiligen Tag extrahiert werden. \n",
    "Diesen Schritt kann man in Python automatisieren, indem zunächst die leere Liste \"kurse\" anlegt wird und anschließend von jedem sich in der Liste \"dateinamen\" befindenden Eintrag die jeweiligen Spalten \"Date\" und \"Adj Close\" eingelesen werden.\n",
    "Dabei werden die verschiedenen im Datensatz vorhanden Spalten mit jedem Komma separiert und Punkte werden als Zeichen für die Dezimaltrennung interpretiert. Anschließend werden die so extrahierten Daten zum Array \"kurse\" hinzugefügt."
   ]
  },
  {
   "cell_type": "code",
   "execution_count": 4,
   "metadata": {},
   "outputs": [],
   "source": [
    "kurse = []     \n",
    "for eintrag in dateinamen:\n",
    "    kurs = pd.read_csv(str(eintrag) + '.csv',\n",
    "                sep=',',\n",
    "                decimal='.',\n",
    "                usecols=['Date','Adj Close'])\n",
    "    kurse.append(kurs)"
   ]
  },
  {
   "cell_type": "markdown",
   "metadata": {},
   "source": [
    "Nun wird das Modul `datetime` genutzt, um die Datumsspalte des jeweiligen Datensatzes bearbeitbar zu machen.\n",
    "Zudem wird dem Programm mitgeteilt, dass die Einträge der Spalte \"Adj Close\" numerisch sind und mit ihnen gerechnet werden kann. Kommt es dabei zu Fehlern werden die entsprechende Werte als NaN-Werte behandelt."
   ]
  },
  {
   "cell_type": "code",
   "execution_count": 5,
   "metadata": {},
   "outputs": [
    {
     "data": {
      "text/html": [
       "<div>\n",
       "<style scoped>\n",
       "    .dataframe tbody tr th:only-of-type {\n",
       "        vertical-align: middle;\n",
       "    }\n",
       "\n",
       "    .dataframe tbody tr th {\n",
       "        vertical-align: top;\n",
       "    }\n",
       "\n",
       "    .dataframe thead th {\n",
       "        text-align: right;\n",
       "    }\n",
       "</style>\n",
       "<table border=\"1\" class=\"dataframe\">\n",
       "  <thead>\n",
       "    <tr style=\"text-align: right;\">\n",
       "      <th></th>\n",
       "      <th>Date</th>\n",
       "      <th>Adj Close</th>\n",
       "    </tr>\n",
       "  </thead>\n",
       "  <tbody>\n",
       "    <tr>\n",
       "      <td>0</td>\n",
       "      <td>2018-07-11</td>\n",
       "      <td>79.685799</td>\n",
       "    </tr>\n",
       "    <tr>\n",
       "      <td>1</td>\n",
       "      <td>2018-07-12</td>\n",
       "      <td>81.349548</td>\n",
       "    </tr>\n",
       "    <tr>\n",
       "      <td>2</td>\n",
       "      <td>2018-07-13</td>\n",
       "      <td>81.775162</td>\n",
       "    </tr>\n",
       "    <tr>\n",
       "      <td>3</td>\n",
       "      <td>2018-07-16</td>\n",
       "      <td>82.316849</td>\n",
       "    </tr>\n",
       "    <tr>\n",
       "      <td>4</td>\n",
       "      <td>2018-07-17</td>\n",
       "      <td>83.110023</td>\n",
       "    </tr>\n",
       "    <tr>\n",
       "      <td>...</td>\n",
       "      <td>...</td>\n",
       "      <td>...</td>\n",
       "    </tr>\n",
       "    <tr>\n",
       "      <td>247</td>\n",
       "      <td>2019-07-05</td>\n",
       "      <td>71.059998</td>\n",
       "    </tr>\n",
       "    <tr>\n",
       "      <td>248</td>\n",
       "      <td>2019-07-08</td>\n",
       "      <td>70.480003</td>\n",
       "    </tr>\n",
       "    <tr>\n",
       "      <td>249</td>\n",
       "      <td>2019-07-09</td>\n",
       "      <td>66.639999</td>\n",
       "    </tr>\n",
       "    <tr>\n",
       "      <td>250</td>\n",
       "      <td>2019-07-10</td>\n",
       "      <td>67.739998</td>\n",
       "    </tr>\n",
       "    <tr>\n",
       "      <td>251</td>\n",
       "      <td>2019-07-11</td>\n",
       "      <td>69.559998</td>\n",
       "    </tr>\n",
       "  </tbody>\n",
       "</table>\n",
       "<p>252 rows × 2 columns</p>\n",
       "</div>"
      ],
      "text/plain": [
       "          Date  Adj Close\n",
       "0   2018-07-11  79.685799\n",
       "1   2018-07-12  81.349548\n",
       "2   2018-07-13  81.775162\n",
       "3   2018-07-16  82.316849\n",
       "4   2018-07-17  83.110023\n",
       "..         ...        ...\n",
       "247 2019-07-05  71.059998\n",
       "248 2019-07-08  70.480003\n",
       "249 2019-07-09  66.639999\n",
       "250 2019-07-10  67.739998\n",
       "251 2019-07-11  69.559998\n",
       "\n",
       "[252 rows x 2 columns]"
      ]
     },
     "execution_count": 5,
     "metadata": {},
     "output_type": "execute_result"
    }
   ],
   "source": [
    "for eintrag in kurse:\n",
    "    eintrag['Date'] = pd.to_datetime(eintrag['Date'])\n",
    "    eintrag['Adj Close'] = pd.to_numeric(eintrag['Adj Close'], errors='coerce')\n",
    "    \n",
    "eintrag"
   ]
  },
  {
   "cell_type": "markdown",
   "metadata": {},
   "source": [
    "## Dataframe erzeugen und Daten zusammentragen:\n",
    "Anschließend werden die eingelesenen Daten in einem DataFrame zusammengetragen, wofür das Modul `Pandas` verwendet wird.\n",
    "Ein DataFrame kann ähnlich wie eine Excel-Tabelle verstanden werden.\n",
    "Dieser Vorgang kann automatisiert werden, damit die einzelnen Spalten nicht manuell hinzufügt werden müssen. \n",
    "Zunächst wird dafür der leere DataFrame \"kurschart\" angelegt. \n",
    "Als nächstes wird für jeden Eintrag in dem Array \"kurse\" zunächst der entsprechende Aktienkurs in den DataFrame überführt und anschließend wird die dazugehörige Rendite berechnet.\n",
    "Um Aktienkurse und dazugehörige Renditen auseinander halten zu können, werden die Dateinamen aus dem Array \"dateinamen\" als Tabellenkopf verwendet."
   ]
  },
  {
   "cell_type": "code",
   "execution_count": 6,
   "metadata": {},
   "outputs": [
    {
     "data": {
      "text/html": [
       "<div>\n",
       "<style scoped>\n",
       "    .dataframe tbody tr th:only-of-type {\n",
       "        vertical-align: middle;\n",
       "    }\n",
       "\n",
       "    .dataframe tbody tr th {\n",
       "        vertical-align: top;\n",
       "    }\n",
       "\n",
       "    .dataframe thead th {\n",
       "        text-align: right;\n",
       "    }\n",
       "</style>\n",
       "<table border=\"1\" class=\"dataframe\">\n",
       "  <thead>\n",
       "    <tr style=\"text-align: right;\">\n",
       "      <th></th>\n",
       "      <th>Aktienkurs VOW3.DE</th>\n",
       "      <th>Rendite VOW3.DE</th>\n",
       "      <th>Aktienkurs FME.DE</th>\n",
       "      <th>Rendite FME.DE</th>\n",
       "    </tr>\n",
       "  </thead>\n",
       "  <tbody>\n",
       "    <tr>\n",
       "      <td>0</td>\n",
       "      <td>138.162201</td>\n",
       "      <td>NaN</td>\n",
       "      <td>79.685799</td>\n",
       "      <td>NaN</td>\n",
       "    </tr>\n",
       "    <tr>\n",
       "      <td>1</td>\n",
       "      <td>138.239578</td>\n",
       "      <td>0.000560</td>\n",
       "      <td>81.349548</td>\n",
       "      <td>0.020879</td>\n",
       "    </tr>\n",
       "    <tr>\n",
       "      <td>2</td>\n",
       "      <td>139.303711</td>\n",
       "      <td>0.007698</td>\n",
       "      <td>81.775162</td>\n",
       "      <td>0.005232</td>\n",
       "    </tr>\n",
       "    <tr>\n",
       "      <td>3</td>\n",
       "      <td>138.065460</td>\n",
       "      <td>-0.008889</td>\n",
       "      <td>82.316849</td>\n",
       "      <td>0.006624</td>\n",
       "    </tr>\n",
       "    <tr>\n",
       "      <td>4</td>\n",
       "      <td>139.381104</td>\n",
       "      <td>0.009529</td>\n",
       "      <td>83.110023</td>\n",
       "      <td>0.009636</td>\n",
       "    </tr>\n",
       "    <tr>\n",
       "      <td>...</td>\n",
       "      <td>...</td>\n",
       "      <td>...</td>\n",
       "      <td>...</td>\n",
       "      <td>...</td>\n",
       "    </tr>\n",
       "    <tr>\n",
       "      <td>247</td>\n",
       "      <td>154.600006</td>\n",
       "      <td>-0.000259</td>\n",
       "      <td>71.059998</td>\n",
       "      <td>0.005092</td>\n",
       "    </tr>\n",
       "    <tr>\n",
       "      <td>248</td>\n",
       "      <td>154.800003</td>\n",
       "      <td>0.001294</td>\n",
       "      <td>70.480003</td>\n",
       "      <td>-0.008162</td>\n",
       "    </tr>\n",
       "    <tr>\n",
       "      <td>249</td>\n",
       "      <td>153.960007</td>\n",
       "      <td>-0.005426</td>\n",
       "      <td>66.639999</td>\n",
       "      <td>-0.054484</td>\n",
       "    </tr>\n",
       "    <tr>\n",
       "      <td>250</td>\n",
       "      <td>152.399994</td>\n",
       "      <td>-0.010133</td>\n",
       "      <td>67.739998</td>\n",
       "      <td>0.016507</td>\n",
       "    </tr>\n",
       "    <tr>\n",
       "      <td>251</td>\n",
       "      <td>153.160004</td>\n",
       "      <td>0.004987</td>\n",
       "      <td>69.559998</td>\n",
       "      <td>0.026867</td>\n",
       "    </tr>\n",
       "  </tbody>\n",
       "</table>\n",
       "<p>252 rows × 4 columns</p>\n",
       "</div>"
      ],
      "text/plain": [
       "     Aktienkurs VOW3.DE  Rendite VOW3.DE  Aktienkurs FME.DE  Rendite FME.DE\n",
       "0            138.162201              NaN          79.685799             NaN\n",
       "1            138.239578         0.000560          81.349548        0.020879\n",
       "2            139.303711         0.007698          81.775162        0.005232\n",
       "3            138.065460        -0.008889          82.316849        0.006624\n",
       "4            139.381104         0.009529          83.110023        0.009636\n",
       "..                  ...              ...                ...             ...\n",
       "247          154.600006        -0.000259          71.059998        0.005092\n",
       "248          154.800003         0.001294          70.480003       -0.008162\n",
       "249          153.960007        -0.005426          66.639999       -0.054484\n",
       "250          152.399994        -0.010133          67.739998        0.016507\n",
       "251          153.160004         0.004987          69.559998        0.026867\n",
       "\n",
       "[252 rows x 4 columns]"
      ]
     },
     "execution_count": 6,
     "metadata": {},
     "output_type": "execute_result"
    }
   ],
   "source": [
    "kurschart = pd.DataFrame()\n",
    "zaehler = 0\n",
    "\n",
    "for eintrag in kurse:\n",
    "    x = dateinamen[zaehler]\n",
    "    kurschart['Aktienkurs ' + str(x)] = eintrag['Adj Close']\n",
    "    kurschart['Rendite ' + str(x)] = (eintrag['Adj Close'] - eintrag['Adj Close'].shift(periods = 1)) / eintrag['Adj Close'].shift(periods = 1) \n",
    "    zaehler += 1\n",
    "    \n",
    "kurschart"
   ]
  },
  {
   "cell_type": "markdown",
   "metadata": {},
   "source": [
    "Um die Portfolio-Rendite zu ermitteln, wird jede zweite Spalte des DataFrames \"kurschart\" ausgewählt (dies sind die jeweiligen Rendite-Spalten) und in einem zweiten DataFrame (\"hilfs_dataframe\") abgespeichert. \n",
    "Anschließend werden die Spalten zeilenweise addiert und durch die Anzahl der Datensätze geteilt, welche sich im Array \"dateinamen\" befinden. Dies entspricht einer naiven Diversifikation."
   ]
  },
  {
   "cell_type": "code",
   "execution_count": 7,
   "metadata": {},
   "outputs": [
    {
     "data": {
      "text/html": [
       "<div>\n",
       "<style scoped>\n",
       "    .dataframe tbody tr th:only-of-type {\n",
       "        vertical-align: middle;\n",
       "    }\n",
       "\n",
       "    .dataframe tbody tr th {\n",
       "        vertical-align: top;\n",
       "    }\n",
       "\n",
       "    .dataframe thead th {\n",
       "        text-align: right;\n",
       "    }\n",
       "</style>\n",
       "<table border=\"1\" class=\"dataframe\">\n",
       "  <thead>\n",
       "    <tr style=\"text-align: right;\">\n",
       "      <th></th>\n",
       "      <th>Rendite VOW3.DE</th>\n",
       "      <th>Rendite FME.DE</th>\n",
       "      <th>PF-Rendite</th>\n",
       "    </tr>\n",
       "  </thead>\n",
       "  <tbody>\n",
       "    <tr>\n",
       "      <td>0</td>\n",
       "      <td>NaN</td>\n",
       "      <td>NaN</td>\n",
       "      <td>0.000000</td>\n",
       "    </tr>\n",
       "    <tr>\n",
       "      <td>1</td>\n",
       "      <td>0.000560</td>\n",
       "      <td>0.020879</td>\n",
       "      <td>0.010719</td>\n",
       "    </tr>\n",
       "    <tr>\n",
       "      <td>2</td>\n",
       "      <td>0.007698</td>\n",
       "      <td>0.005232</td>\n",
       "      <td>0.006465</td>\n",
       "    </tr>\n",
       "    <tr>\n",
       "      <td>3</td>\n",
       "      <td>-0.008889</td>\n",
       "      <td>0.006624</td>\n",
       "      <td>-0.001132</td>\n",
       "    </tr>\n",
       "    <tr>\n",
       "      <td>4</td>\n",
       "      <td>0.009529</td>\n",
       "      <td>0.009636</td>\n",
       "      <td>0.009582</td>\n",
       "    </tr>\n",
       "    <tr>\n",
       "      <td>...</td>\n",
       "      <td>...</td>\n",
       "      <td>...</td>\n",
       "      <td>...</td>\n",
       "    </tr>\n",
       "    <tr>\n",
       "      <td>247</td>\n",
       "      <td>-0.000259</td>\n",
       "      <td>0.005092</td>\n",
       "      <td>0.002417</td>\n",
       "    </tr>\n",
       "    <tr>\n",
       "      <td>248</td>\n",
       "      <td>0.001294</td>\n",
       "      <td>-0.008162</td>\n",
       "      <td>-0.003434</td>\n",
       "    </tr>\n",
       "    <tr>\n",
       "      <td>249</td>\n",
       "      <td>-0.005426</td>\n",
       "      <td>-0.054484</td>\n",
       "      <td>-0.029955</td>\n",
       "    </tr>\n",
       "    <tr>\n",
       "      <td>250</td>\n",
       "      <td>-0.010133</td>\n",
       "      <td>0.016507</td>\n",
       "      <td>0.003187</td>\n",
       "    </tr>\n",
       "    <tr>\n",
       "      <td>251</td>\n",
       "      <td>0.004987</td>\n",
       "      <td>0.026867</td>\n",
       "      <td>0.015927</td>\n",
       "    </tr>\n",
       "  </tbody>\n",
       "</table>\n",
       "<p>252 rows × 3 columns</p>\n",
       "</div>"
      ],
      "text/plain": [
       "     Rendite VOW3.DE  Rendite FME.DE  PF-Rendite\n",
       "0                NaN             NaN    0.000000\n",
       "1           0.000560        0.020879    0.010719\n",
       "2           0.007698        0.005232    0.006465\n",
       "3          -0.008889        0.006624   -0.001132\n",
       "4           0.009529        0.009636    0.009582\n",
       "..               ...             ...         ...\n",
       "247        -0.000259        0.005092    0.002417\n",
       "248         0.001294       -0.008162   -0.003434\n",
       "249        -0.005426       -0.054484   -0.029955\n",
       "250        -0.010133        0.016507    0.003187\n",
       "251         0.004987        0.026867    0.015927\n",
       "\n",
       "[252 rows x 3 columns]"
      ]
     },
     "execution_count": 7,
     "metadata": {},
     "output_type": "execute_result"
    }
   ],
   "source": [
    "hilfs_dataframe = kurschart.iloc[:, 1::2]\n",
    "hilfs_dataframe['PF-Rendite'] = hilfs_dataframe.sum(axis = 1, skipna = True) / len(dateinamen)\n",
    "\n",
    "hilfs_dataframe"
   ]
  },
  {
   "cell_type": "markdown",
   "metadata": {},
   "source": [
    "Diese Portfolio-Rendite wird nun dem ursprünglichen DataFrame \"kurschart\" angefügt. \n",
    "Zudem erhält der DataFrame eine Datumsspalte, welche gleichzeitig als Index verwendet wird."
   ]
  },
  {
   "cell_type": "code",
   "execution_count": 8,
   "metadata": {},
   "outputs": [],
   "source": [
    "kurschart['Rendite-PF'] = hilfs_dataframe['PF-Rendite']\n",
    "kurschart['Datum'] = eintrag['Date']\n",
    "kurschart = kurschart.set_index('Datum')"
   ]
  },
  {
   "cell_type": "markdown",
   "metadata": {},
   "source": [
    "Nun kann das DataFrame ausgeben werden:"
   ]
  },
  {
   "cell_type": "code",
   "execution_count": 9,
   "metadata": {},
   "outputs": [
    {
     "name": "stdout",
     "output_type": "stream",
     "text": [
      "#----------------------------------------------------------------------------------------------------#\n",
      "|  [INFO] Der DataFrame mit den Aktienkursen und deren zugehörigen Renditen ergibt sich wie folgt:   |\n",
      "#----------------------------------------------------------------------------------------------------#\n",
      "            Aktienkurs VOW3.DE  Rendite VOW3.DE  Aktienkurs FME.DE  Rendite FME.DE  Rendite-PF\n",
      "Datum                                                                                         \n",
      "2018-07-11          138.162201              NaN          79.685799             NaN    0.000000\n",
      "2018-07-12          138.239578         0.000560          81.349548        0.020879    0.010719\n",
      "2018-07-13          139.303711         0.007698          81.775162        0.005232    0.006465\n",
      "2018-07-16          138.065460        -0.008889          82.316849        0.006624   -0.001132\n",
      "2018-07-17          139.381104         0.009529          83.110023        0.009636    0.009582\n",
      "...                        ...              ...                ...             ...         ...\n",
      "2019-07-05          154.600006        -0.000259          71.059998        0.005092    0.002417\n",
      "2019-07-08          154.800003         0.001294          70.480003       -0.008162   -0.003434\n",
      "2019-07-09          153.960007        -0.005426          66.639999       -0.054484   -0.029955\n",
      "2019-07-10          152.399994        -0.010133          67.739998        0.016507    0.003187\n",
      "2019-07-11          153.160004         0.004987          69.559998        0.026867    0.015927\n",
      "\n",
      "[252 rows x 5 columns]\n",
      "#----------------------------------------------------------------------------------------------------#\n",
      "|                      [INFO] Überprüfung des obigen DataFrames auf NaN-Werte:                       |\n",
      "#----------------------------------------------------------------------------------------------------#\n",
      "Aktienkurs VOW3.DE    0\n",
      "Rendite VOW3.DE       1\n",
      "Aktienkurs FME.DE     0\n",
      "Rendite FME.DE        1\n",
      "Rendite-PF            0\n",
      "dtype: int64\n",
      "#----------------------------------------------------------------------------------------------------#\n"
     ]
    }
   ],
   "source": [
    "print('#' + SCREEN_WIDTH * '-' + '#')\n",
    "print('|' + centered('[INFO] Der DataFrame mit den Aktienkursen und deren zugehörigen Renditen ergibt sich wie folgt: ') + '|')\n",
    "print('#' + SCREEN_WIDTH * '-' + '#')\n",
    "print(kurschart)\n",
    "print('#' + SCREEN_WIDTH * '-' + '#')\n",
    "print('|' + centered('[INFO] Überprüfung des obigen DataFrames auf NaN-Werte: ') + '|')\n",
    "print('#' + SCREEN_WIDTH * '-' + '#')\n",
    "print(kurschart.isnull().sum())\n",
    "print('#' + SCREEN_WIDTH * '-' + '#')"
   ]
  },
  {
   "cell_type": "markdown",
   "metadata": {},
   "source": [
    "## Streudiagramm anzeigen:\n",
    "Mithilfe eines Streudiagramms kann die gemeinsame Verteilung von zwei Datensätzen bzw. deren Abhängigkeitsstruktur betrachtet werden.\n",
    "Um ein solches Streudiagramm zu plotten wird zunächst den Datensatz \"x\" und den Datensatz \"y\" definiert. \n",
    "Anschließend werden die zugehörigen Renditen in einer Liste gespeichert und um NaN-Werte bereinigt."
   ]
  },
  {
   "cell_type": "code",
   "execution_count": 10,
   "metadata": {},
   "outputs": [],
   "source": [
    "##########################################################################\n",
    "#-------------------------------------------------------------------------\n",
    "\n",
    "x = dateinamen[0]\n",
    "y = dateinamen[1]\n",
    "\n",
    "#-------------------------------------------------------------------------\n",
    "##########################################################################\n",
    "\n",
    "# DataFrame-Werte in eine Listen überführen\n",
    "values_datensatz1 = kurschart['Rendite ' + str(x)].values.tolist()\n",
    "values_datensatz2 = kurschart['Rendite ' + str(y)].values.tolist()\n",
    "\n",
    "#--------------------------------------------------------\n",
    "# Liste in ein Numpy-Array transformieren\n",
    "values_datensatz1 = np.array(values_datensatz1)\n",
    "values_datensatz2 = np.array(values_datensatz2)\n",
    "\n",
    "#--------------------------------------------------------\n",
    "# Bereinigung um NaN-Werte und Sicherstellung das beide Datensätze die gleiche Länge aufweisen\n",
    "values_datensatz1 = values_datensatz1[np.logical_not(np.isnan(values_datensatz1))]\n",
    "values_datensatz2 = values_datensatz2[np.logical_not(np.isnan(values_datensatz2))]\n",
    "values_datensatz1 = values_datensatz1[values_datensatz1 != 0.0]\n",
    "values_datensatz2 = values_datensatz2[values_datensatz2 != 0.0]\n",
    "min_len = min(len(values_datensatz1), len(values_datensatz2))\n",
    "values_datensatz1 = values_datensatz1[:min_len]\n",
    "values_datensatz2 = values_datensatz2[:min_len]\n",
    "\n",
    "#--------------------------------------------------------\n",
    "# Berechnung der Korrelation\n",
    "corr = np.ma.corrcoef(values_datensatz1, values_datensatz2)"
   ]
  },
  {
   "cell_type": "markdown",
   "metadata": {},
   "source": [
    "Nun kann das Streudiagramm für die jeweiligen Aktienkurse geplottet werden:"
   ]
  },
  {
   "cell_type": "code",
   "execution_count": 11,
   "metadata": {},
   "outputs": [
    {
     "data": {
      "image/png": "[encoded data removed]",
      "text/plain": [
       "<Figure size 1080x900 with 1 Axes>"
      ]
     },
     "metadata": {
      "needs_background": "light"
     },
     "output_type": "display_data"
    },
    {
     "name": "stdout",
     "output_type": "stream",
     "text": [
      "#----------------------------------------------------------------------------------------------------#\n",
      "|                   [INFO] Der Korrelationskoeffizient beträgt: 0.2529532401634806                   |\n",
      "#----------------------------------------------------------------------------------------------------#\n"
     ]
    }
   ],
   "source": [
    "#--------------------------------------------------------\n",
    "# Grafik plotten \n",
    "plt.scatter(values_datensatz1, values_datensatz2)\n",
    "plt.xlabel('Rendite des Datensatzes ' + str(datensatz1))\n",
    "plt.ylabel('Rendite des Datensatzes ' + str(datensatz2)) \n",
    "plt.title('Gemeinsame Verteilung der Datensätze ' + str(datensatz1) + ' und ' + str(datensatz2))\n",
    "def easy_plot():\n",
    "    plt.grid()\n",
    "    plt.axhline(0, color='black')\n",
    "    plt.axvline(0, color='black')\n",
    "    plt.show()\n",
    "easy_plot() \n",
    "\n",
    "#--------------------------------------------------------\n",
    "# Korrelation ausgeben lassen\n",
    "print('#' + SCREEN_WIDTH * '-' + '#')\n",
    "print('|' + centered('[INFO] Der Korrelationskoeffizient beträgt: {}'.format(corr[0][1])) + '|')\n",
    "print('#' + SCREEN_WIDTH * '-' + '#')"
   ]
  },
  {
   "cell_type": "markdown",
   "metadata": {},
   "source": [
    "Die zugehörigen Erwartungswerte und Standardabweichungen können auch ausgegeben werden. Anschließend wird das Modul `Numpy` genutzt, welches den Erwartungswert und die Standardabweichung berechnet."
   ]
  },
  {
   "cell_type": "code",
   "execution_count": 12,
   "metadata": {},
   "outputs": [
    {
     "name": "stdout",
     "output_type": "stream",
     "text": [
      "#----------------------------------------------------------------------------------------------------#\n",
      "|        [INFO] Die erwartete Rendite des Datensatzes VOW3.DE beträgt 0.0005292171712249241.         | \n",
      "|        [INFO] Die erwartete Rendite des Datensatzes FME.DE beträgt -0.00033376251501250566.        | \n",
      "#----------------------------------------------------------------------------------------------------#\n",
      "|       [INFO] Der Datensatz VOW3.DE hat eine Standardabweichung i.H.v. 0.016551642943328664.        | \n",
      "|        [INFO] Der Datensatz FME.DE hat eine Standardabweichung i.H.v. 0.020156241318251833.        | \n",
      "#----------------------------------------------------------------------------------------------------#\n"
     ]
    }
   ],
   "source": [
    "#--------------------------------------------------------\n",
    "# Berechnung Mittelwerte\n",
    "mu_datensatz1 = np.mean(values_datensatz1)\n",
    "mu_datensatz2 =  np.mean(values_datensatz2)\n",
    "\n",
    "#--------------------------------------------------------\n",
    "# Ausgabe der Mittelwerte\n",
    "print('#' + SCREEN_WIDTH * '-' + '#')\n",
    "print('|' + centered('[INFO] Die erwartete Rendite des Datensatzes ' + str(datensatz1) + ' beträgt ' + str(mu_datensatz1) + '.') + '| ')\n",
    "print('|' + centered('[INFO] Die erwartete Rendite des Datensatzes ' + str(datensatz2) + ' beträgt ' + str(mu_datensatz2) + '.') + '| ')\n",
    "print('#' + SCREEN_WIDTH * '-' + '#')\n",
    "\n",
    "#--------------------------------------------------------\n",
    "# Berechnung Standardabweichung\n",
    "std_dattensatz1 = np.std(values_datensatz1)\n",
    "std_dattensatz2 = np.std(values_datensatz2)\n",
    "\n",
    "#--------------------------------------------------------\n",
    "# Ausgabe Standardabweichung\n",
    "print('|' + centered('[INFO] Der Datensatz ' + str(datensatz1) + ' hat eine Standardabweichung i.H.v. ' + str(std_dattensatz1) + '.') + '| ')\n",
    "print('|' + centered('[INFO] Der Datensatz ' + str(datensatz2) + ' hat eine Standardabweichung i.H.v. ' + str(std_dattensatz2) + '.') + '| ')\n",
    "print('#' + SCREEN_WIDTH * '-' + '#')"
   ]
  },
  {
   "cell_type": "markdown",
   "metadata": {},
   "source": [
    "## Portfolio-Renditedaten bereinigen und analysieren:\n",
    "Da für die Simulationsverfahren fortan die Portfolio-Rendite benötigt wird, wird diese ebenfalls in einer Liste abgespeichert und um NaN-Werte bereinigt. Anschließend wird wiederum der Erwartungswert und die Standardabweichung berechnet."
   ]
  },
  {
   "cell_type": "code",
   "execution_count": 13,
   "metadata": {},
   "outputs": [
    {
     "name": "stdout",
     "output_type": "stream",
     "text": [
      "#----------------------------------------------------------------------------------------------------#\n",
      "|         [INFO] Die Porfolio-Rendite hat einen Erwartunswert i.H.v. 0.0001072721245152569.          | \n",
      "#----------------------------------------------------------------------------------------------------#\n",
      "|            [INFO] Das Porfolio hat eine Standardabweichung i.H.v. 0.014593523569872993.            | \n",
      "#----------------------------------------------------------------------------------------------------#\n"
     ]
    }
   ],
   "source": [
    "#--------------------------------------------------------\n",
    "# DataFrame-Werte in Liste überführen und Bereinigen\n",
    "values_PF = kurschart['Rendite-PF'].values.tolist()\n",
    "values_PF = np.array(values_PF)\n",
    "values_PF = values_PF[np.logical_not(np.isnan(values_PF))]\n",
    "values_PF = values_PF[values_PF != 0.0]\n",
    "\n",
    "#--------------------------------------------------------\n",
    "# Berechnung Mittelwert und Standardabweichung\n",
    "mu_PF = np.mean(values_PF)\n",
    "std_PF = np.std(values_PF)\n",
    "\n",
    "#--------------------------------------------------------\n",
    "# Ausgabe der Informationen\n",
    "print('#' + SCREEN_WIDTH * '-' + '#')\n",
    "print('|' + centered('[INFO] Die Porfolio-Rendite hat einen Erwartunswert i.H.v. ' + str(mu_PF) + '.') + '| ')\n",
    "print('#' + SCREEN_WIDTH * '-' + '#')\n",
    "print('|' + centered('[INFO] Das Porfolio hat eine Standardabweichung i.H.v. ' + str(std_PF) + '.') + '| ')\n",
    "print('#' + SCREEN_WIDTH * '-' + '#')"
   ]
  },
  {
   "cell_type": "markdown",
   "metadata": {},
   "source": [
    "### Warum ist der Mittelwert der zu erwartenden Renditen / Standardabweichungen nicht gleich dem Erwartungswert der PF-Rendite / Standardabweichung?\n",
    "Grund: Rechnung erfolgt mit Float-Werten, welche eine Annäherung an reelle Zahlen darstellen. \n",
    "Diese sind nicht exakt. Des Weiteren Subadditivität der Standardabweichung."
   ]
  },
  {
   "cell_type": "code",
   "execution_count": 14,
   "metadata": {},
   "outputs": [
    {
     "data": {
      "text/plain": [
       "False"
      ]
     },
     "execution_count": 14,
     "metadata": {},
     "output_type": "execute_result"
    }
   ],
   "source": [
    "(std_dattensatz1 + std_dattensatz2) / 2 == std_PF"
   ]
  },
  {
   "cell_type": "code",
   "execution_count": 15,
   "metadata": {},
   "outputs": [
    {
     "data": {
      "text/plain": [
       "False"
      ]
     },
     "execution_count": 15,
     "metadata": {},
     "output_type": "execute_result"
    }
   ],
   "source": [
    "(mu_datensatz1 + mu_datensatz2) / 2 == mu_PF"
   ]
  },
  {
   "cell_type": "code",
   "execution_count": 16,
   "metadata": {},
   "outputs": [
    {
     "data": {
      "text/plain": [
       "False"
      ]
     },
     "execution_count": 16,
     "metadata": {},
     "output_type": "execute_result"
    }
   ],
   "source": [
    "0.1 + 0.1 + 0.1 == 0.3"
   ]
  },
  {
   "cell_type": "markdown",
   "metadata": {},
   "source": [
    "Um das Intervall beider Simulationsverfahren zu begrenzen, wird der kleinste und größte Rendite-Wert der in der Liste \"values_PF\" zu finden ist ermittelt."
   ]
  },
  {
   "cell_type": "code",
   "execution_count": 17,
   "metadata": {},
   "outputs": [],
   "source": [
    "mini_values_PF = min(values_PF)\n",
    "maxi_values_PF = max(values_PF)"
   ]
  },
  {
   "cell_type": "markdown",
   "metadata": {},
   "source": [
    "## Abfragefunktion definieren:\n",
    "Nun wird eine Funktion definiert mit deren Hilfe die Feinheit der jeweiligen Verteilungsfunktion bestimmt werden kann.\n",
    "Standardmäßig wird die höchste Feinheit gewählt, d.h. jede einzelne Realisation wird einzeln erfasst, sodass die Verteilungsfunktion eine sehr hohe Genauigkeit aufweist.\n",
    "Dies muss jedoch nicht immer sinnvoll sein, weshalb mithilfe einer Abfrage auch andere Werte akzeptiert werden sollen.\n",
    "Im Grunde die Funktion ob eine Anpassung vorgenommen werden soll oder nicht und wenn ja, welche."
   ]
  },
  {
   "cell_type": "code",
   "execution_count": 18,
   "metadata": {},
   "outputs": [],
   "source": [
    "def abfrage():\n",
    "    abfrage = None\n",
    "    # Solange die Nutzereingabe nicht in folgenden Liste, frage erneut..\n",
    "    while abfrage not in ('Ja', 'Nein', 'ja', 'nein', 'j', 'n'):\n",
    "        abfrage = input('|' + centered('[EINGABE] Möchten Sie die Genauigkeit anpassen? Geben Sie \"Ja\" oder \"Nein\" ein: ') + '| ')        \n",
    "        # Wenn Anwort Nein, dann fahre mit Standardwert (Höchste Genauigkeit) fort\n",
    "        if abfrage == 'Nein' or abfrage == 'nein' or abfrage == 'n':\n",
    "            return len(values_PF)\n",
    "        # Wenn Antwort Ja, dann warte auf Input und fahre mit diesem fort\n",
    "        elif abfrage == 'Ja' or abfrage == 'ja' or abfrage == 'j':\n",
    "            return int(input('|' + centered('[EINGABE] Geben sie eine Zahl zwischen ' + str(round(len(values_PF)/10)) + ' und ' + str(len(values_PF)) + ' ein') + '| '))    \n",
    "        # Sonst gib eine Fehlermeldung aus\n",
    "        else:\n",
    "            print('|' + centered('[WARNUNG] Geben Sie \"Ja\" oder \"Nein\" ein! ') + '| ')"
   ]
  },
  {
   "cell_type": "markdown",
   "metadata": {},
   "source": [
    "## Verteilungsfunktionen definieren und plotten:\n",
    "Im letzten Schritt gilt es nun alle Informationen zusammenzutragen und die beiden Verteilungsfunktionen zu zeichnen."
   ]
  },
  {
   "cell_type": "code",
   "execution_count": 19,
   "metadata": {},
   "outputs": [
    {
     "name": "stdout",
     "output_type": "stream",
     "text": [
      "#----------------------------------------------------------------------------------------------------#\n",
      "|          [EINGABE] Möchten Sie die Genauigkeit anpassen? Geben Sie \"Ja\" oder \"Nein\" ein:           | n\n",
      "#----------------------------------------------------------------------------------------------------#\n"
     ]
    },
    {
     "data": {
      "image/png": "[encoded data removed]",
      "text/plain": [
       "<Figure size 1080x900 with 1 Axes>"
      ]
     },
     "metadata": {
      "needs_background": "light"
     },
     "output_type": "display_data"
    }
   ],
   "source": [
    "#--------------------------------------------------------\n",
    "# Aufruf der Abfrage\n",
    "print('#' + SCREEN_WIDTH * '-' + '#')\n",
    "bins = abfrage()\n",
    "print('#' + SCREEN_WIDTH * '-' + '#')\n",
    "\n",
    "#----------------------------------------------------------\n",
    "# Plot für die Historische Simulation\n",
    "H, X1 = np.histogram(values_PF, bins, density=True)\n",
    "dx = X1[1] - X1[0]\n",
    "F1 = np.cumsum(H) * dx\n",
    "plt.plot(X1[1:], F1)\n",
    "\n",
    "#----------------------------------------------------------\n",
    "# Kumulierte Verteilungfunktion für die Varianz-Kovarianz-Methode\n",
    "array = np.array(np.arange(0.0001, 1, 0.0001)) # Array von 0.0001 bis 1 in 0.0001-er Schritten\n",
    "var_covar_results = stats.norm.ppf(array, mu_PF, std_PF) # Erzeugt eine parametrisierte percent point function \n",
    "var_covar_range = np.linspace(mini_values_PF, maxi_values_PF, bins) # Erzeugt ein Intervall für die X-Achse\n",
    "plt.plot(var_covar_range, stats.norm.cdf(var_covar_range, mu_PF, std_PF)) # Plottet die Verteilungsfunktion\n",
    "\n",
    "#----------------------------------------------------------\n",
    "# Restliche Einstellungen für die Grafik\n",
    "plt.xlabel('Rendite')\n",
    "plt.ylabel('Wahrscheinlichkeit')\n",
    "blue_patch = mpatches.Patch(color='blue', label='Historische Simulation')\n",
    "orange_patch = mpatches.Patch(color='orange', label='Varianz-Kovarianzmethode')\n",
    "plt.legend(handles=[orange_patch, blue_patch])\n",
    "plt.title('Verteilungsfunktion: Historische Simulation versus Varianz-Kovarianz-Methode')\n",
    "easy_plot()"
   ]
  },
  {
   "cell_type": "markdown",
   "metadata": {},
   "source": [
    "## Risikomaße schätzen - Historische Simulation:\n",
    "### Value at Risk\n",
    "Um den Value at Risk für die historische Simulation zu bestimmen, werden die Portfolio-Realisationen zunächst der Größe nach sortiert, wobei dieser Schritt gleichzeitig der Ausgangspunkt für die Berechnung des Conditional Value at Risk ist.\n",
    "Anschließend wird das Alpha-Quantil der Verlustfunktion bestimmt, indem der Parameter \"alpha\" mit der Länge der Liste \"RM_list\" multipliziert wird. Der so ermittelte Wert gibt die Position in der Liste \"RM_list\" an, an welcher sich der Value at Risk zum Konfidenzniveau \"alpha\" befindet."
   ]
  },
  {
   "cell_type": "code",
   "execution_count": 20,
   "metadata": {},
   "outputs": [],
   "source": [
    "def VaR(liste, alpha): \n",
    "    liste = sorted(liste) # Liste sortieren\n",
    "    item = (int((alpha * len(liste))) - 1) # Index-Wert bestimmen\n",
    "    VaR = -(liste[item]) # Value at Risik ist der Wert an der Stelle des Index-Wertes\n",
    "    print('#' + SCREEN_WIDTH * '-' + '#')\n",
    "    print('|' + centered('Der VaR beträgt: ' + str(VaR) + '.') + '| ')"
   ]
  },
  {
   "cell_type": "markdown",
   "metadata": {},
   "source": [
    "### Conditional Value at Risk\n",
    "Der Conditional Value at Risk wird grundsätzlich wie der Value at Risk bestimmt, wobei hier jedoch der Mittelwert über alle Realisationen bis zum Alpha-Quantil gebildet wird. \n",
    "Daher wird hier nach der Positionsbestimmung die Liste \"CVaR_list\" mit denjenigen Realisationen aus der Liste \"RM_list\" gefüllt, welche den Bereich von der kleinsten Realisation bis zum Alpha-Quantil abdecken. \n",
    "Die Summe dieser Liste wird anschließend durch die Anzahl ihrer Elemente geteilt."
   ]
  },
  {
   "cell_type": "code",
   "execution_count": 21,
   "metadata": {},
   "outputs": [],
   "source": [
    "def CVaR(liste, alpha):\n",
    "    liste = sorted(liste) # Liste sortieren\n",
    "    item = int((alpha * len(liste))) # Index-Wert bestimmen\n",
    "    CVaR_list = liste[0:item] # Teilliste bilden\n",
    "    CVaR = -(np.sum(CVaR_list) / len(CVaR_list)) # Erwartungswert der Teilliste bilden\n",
    "    print('#' + SCREEN_WIDTH * '-' + '#')\n",
    "    print('|' + centered('Der CVaR beträgt: ' + str(CVaR) + '.') + '| ')"
   ]
  },
  {
   "cell_type": "markdown",
   "metadata": {},
   "source": [
    "### Power-Spektrales Risikomaß ($\\Phi_b(p)=b \\cdot p^{b-1} \\text{ mit } p \\in \\left[0,1\\right], ~b \\in \\left(0,1\\right)$)\n",
    "Für das Power-Spektrale Risikomaß ergibt sich der Erwartungswert aus dem Mittelwert der \"RM_list\" (der Mittelwert der Portfolio-Realisationen) und das Risiko ergibt sich aus dem Matrixprodukt der transponierten \"RM_list\" mit der \"subj_ws_list\", welche subjektive Wahrscheinlichkeiten beinhaltet.\n",
    "Die Elemente letzterer Liste werden berechnet, indem die Laufvariable jeder Realisation in der geordneten Statisitk \"RM_list\" (bei \"example1\" 1 bis 364) durch die Gesamtanzahl der Realisationen (bei \"BAS.DE\" 253) geteilt und dann mit \"gamma\" potenziert wird (daher heißt es Power-Spektrales Risikomaß).\n",
    "Dabei ist bei jeder Berechnung der jeweils vorher errechnete Wert zu subtrahieren."
   ]
  },
  {
   "cell_type": "code",
   "execution_count": 22,
   "metadata": {},
   "outputs": [],
   "source": [
    "def power(liste, gamma, VarKoVar=False):  \n",
    "    liste = sorted(liste) # Liste sortieren\n",
    "    \n",
    "    EW = np.mean(liste) # Erwartungswert bestimmen\n",
    "    print('#' + SCREEN_WIDTH * '-' + '#')\n",
    "    if VarKoVar == False:\n",
    "        print('|' + centered('Power-Spektrales Risikomaß bei der historischen Simulation:') + '| ')\n",
    "    else:\n",
    "        print('|' + centered('Power-Spektrales Risikomaß bei der Varianz-Kovarianz-Methode:') + '| ')\n",
    "    print('#' + SCREEN_WIDTH * '-' + '#')\n",
    "    print('|' + centered('Der Erwartungswert beträgt: ' + str(EW) + '.') + '| ')\n",
    "\n",
    "    subj_ws_list = []\n",
    "    counter1, counter2 = len(liste), len(liste) - 1\n",
    "    # Subjektive Wahrscheinlichkieten bestimmen und der Liste anfügen\n",
    "    for i in liste:\n",
    "        subj_ws = (np.power((counter1 / len(liste)), gamma)) - (np.power((counter2 / len(liste)), gamma)) \n",
    "        counter1 -= 1\n",
    "        counter2 -= 1\n",
    "        subj_ws_list.append(subj_ws)\n",
    "    subj_ws_list = subj_ws_list[::-1] # Liste inverieren\n",
    "    # Risiko der Liste berechnen\n",
    "    risk = (- np.matmul(np.transpose(liste), subj_ws_list))\n",
    "    print('|' + centered('Das Risiko beträgt: ' + str(risk) + '.') + '| ')\n",
    "    print('#' + SCREEN_WIDTH * '-' + '#')"
   ]
  },
  {
   "cell_type": "markdown",
   "metadata": {},
   "source": [
    "#### Prinzip:\n",
    "Das erste Bild zeigt die Stammfunktion und das zweite Bild zeigt die subjektiven Gewichte mit denen die PF-Realisationen multipliziert werden.\n",
    "Je größer die Realisation, desto geringer die Gewichtung."
   ]
  },
  {
   "cell_type": "code",
   "execution_count": 23,
   "metadata": {},
   "outputs": [
    {
     "data": {
      "image/png": "[encoded data removed]",
      "text/plain": [
       "<Figure size 2520x1800 with 2 Axes>"
      ]
     },
     "metadata": {
      "needs_background": "light"
     },
     "output_type": "display_data"
    }
   ],
   "source": [
    "##########################################################################\n",
    "#-------------------------------------------------------------------------\n",
    "\n",
    "gamma = 0.5\n",
    "\n",
    "#-------------------------------------------------------------------------\n",
    "##########################################################################\n",
    "\n",
    "prinzip.prinzip(gamma, values_PF)"
   ]
  },
  {
   "cell_type": "markdown",
   "metadata": {},
   "source": [
    "### Parameterfestlegung und Aufruf der Funktionen"
   ]
  },
  {
   "cell_type": "code",
   "execution_count": 24,
   "metadata": {},
   "outputs": [
    {
     "name": "stdout",
     "output_type": "stream",
     "text": [
      "#----------------------------------------------------------------------------------------------------#\n",
      "|                               Der VaR beträgt: 0.017789645491228443.                               | \n",
      "#----------------------------------------------------------------------------------------------------#\n",
      "|                              Der CVaR beträgt: 0.026073806207793263.                               | \n",
      "#----------------------------------------------------------------------------------------------------#\n",
      "|                    Power-Spektrales Risikomaß bei der historischen Simulation:                     | \n",
      "#----------------------------------------------------------------------------------------------------#\n",
      "|                        Der Erwartungswert beträgt: 0.00010727212451525667.                         | \n",
      "|                             Das Risiko beträgt: 0.012121607385303546.                              | \n",
      "#----------------------------------------------------------------------------------------------------#\n"
     ]
    }
   ],
   "source": [
    "##########################################################################\n",
    "#-------------------------------------------------------------------------\n",
    "alpha = 0.1\n",
    "VaR(values_PF, alpha)\n",
    "\n",
    "alpha = 0.1\n",
    "CVaR(values_PF, alpha)\n",
    "\n",
    "gamma = 0.5\n",
    "power(values_PF, gamma)\n",
    "#-------------------------------------------------------------------------\n",
    "##########################################################################"
   ]
  },
  {
   "cell_type": "markdown",
   "metadata": {},
   "source": [
    "## Risikomaße schätzen - Varianz-Kovarianz-Methode:\n",
    "### Value at Risk, Conditional Value at Risk und Power-Spektrales Risikomaß\n",
    "Die Berechnung des Value at Risk für die Varianz-Kovarianz-Methode ist analog zu der bei der historischen Simulation.\n",
    "Der einzige Unterschied ist, dass hierbei auf die auf (mu, sigma) parametrisierten Elemente zurückgegriffen wird, welche zuvor als \"var_covar_results\" bei der Generierung der analytischen Verteilungsfunktion gespeichert wurden.\n",
    "Für den Conditional Value at Risk und das Power-Spektrale Risikomaß gilt selbiges.\n",
    "### Parameterfestlegung und Aufruf der Funktionen"
   ]
  },
  {
   "cell_type": "code",
   "execution_count": 25,
   "metadata": {},
   "outputs": [
    {
     "name": "stdout",
     "output_type": "stream",
     "text": [
      "#----------------------------------------------------------------------------------------------------#\n",
      "|                               Der VaR beträgt: 0.018603399368407544.                               | \n",
      "#----------------------------------------------------------------------------------------------------#\n",
      "|                              Der CVaR beträgt: 0.025490031878150177.                               | \n",
      "#----------------------------------------------------------------------------------------------------#\n",
      "|                   Power-Spektrales Risikomaß bei der Varianz-Kovarianz-Methode:                    | \n",
      "#----------------------------------------------------------------------------------------------------#\n",
      "|                        Der Erwartungswert beträgt: 0.00010727212451525916.                         | \n",
      "|                              Das Risiko beträgt: 0.01008497086603982.                              | \n",
      "#----------------------------------------------------------------------------------------------------#\n"
     ]
    }
   ],
   "source": [
    "##########################################################################\n",
    "#-------------------------------------------------------------------------\n",
    "alpha = 0.1\n",
    "VaR(var_covar_results, alpha)\n",
    "\n",
    "alpha = 0.1\n",
    "CVaR(var_covar_results, alpha)\n",
    "\n",
    "gamma = 0.5\n",
    "power(var_covar_results, gamma, VarKoVar=True)\n",
    "#-------------------------------------------------------------------------\n",
    "##########################################################################"
   ]
  }
 ],
 "metadata": {
  "kernelspec": {
   "display_name": "Python 3",
   "language": "python",
   "name": "python3"
  },
  "language_info": {
   "codemirror_mode": {
    "name": "ipython",
    "version": 3
   },
   "file_extension": ".py",
   "mimetype": "text/x-python",
   "name": "python",
   "nbconvert_exporter": "python",
   "pygments_lexer": "ipython3",
   "version": "3.7.4"
  }
 },
 "nbformat": 4,
 "nbformat_minor": 4
}
