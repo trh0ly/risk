{
 "cells": [
  {
   "cell_type": "markdown",
   "metadata": {},
   "source": [
    "# Monte-Carlo-Simulation und Single- v.s. Multi-Processing\n",
    "© Thomas Robert Holy 2020\n",
    "<br>\n",
    "Version 1.0\n",
    "<br><br>\n",
    "Visit me on GitHub: https://github.com/trh0ly\n",
    "<br>\n",
    "## Grundlegende Einstellungen:\n",
    "Zunächst müssen die notwendigen Pakete (auch Module) importiert werden, damit auf diese zugegriffen werden kann. "
   ]
  },
  {
   "cell_type": "code",
   "execution_count": 1,
   "metadata": {},
   "outputs": [],
   "source": [
    "import pandas as pd\n",
    "import numpy as np\n",
    "from riskmeasure_module import risk_measure as rm\n",
    "import math\n",
    "from multiprocessing import Process\n",
    "from multiprocessing import Manager\n",
    "from multiprocessing.pool import Pool\n",
    "import datetime as dt\n",
    "import operator\n",
    "from IPython.core.display import display, HTML\n",
    "from multi_1b import repeat_parallel, RM_frame_func, plotty_func\n",
    "from Monte_Carlo_Simulation_lite import var_covar_matrix_func, var_func, cholesky_func, verteilung_func, copula_sim, hist_func"
   ]
  },
  {
   "cell_type": "markdown",
   "metadata": {},
   "source": [
    "Anschließend werden Einstellungen definiert, die die Formatierung der Ausgaben betreffen.\n",
    "Hierfür wird das Modul `operator` genutzt.\n",
    "Außerdem wird die Größe der Grafiken modifiziert, welche später angezeigt werden sollen."
   ]
  },
  {
   "cell_type": "code",
   "execution_count": 2,
   "metadata": {},
   "outputs": [
    {
     "data": {
      "application/javascript": [
       "IPython.OutputArea.auto_scroll_threshold = 9999;\n"
      ],
      "text/plain": [
       "<IPython.core.display.Javascript object>"
      ]
     },
     "metadata": {},
     "output_type": "display_data"
    }
   ],
   "source": [
    "%%javascript\n",
    "IPython.OutputArea.auto_scroll_threshold = 9999;"
   ]
  },
  {
   "cell_type": "code",
   "execution_count": 3,
   "metadata": {},
   "outputs": [
    {
     "data": {
      "text/html": [
       "<style>.container { width:100% !important; }</style>"
      ],
      "text/plain": [
       "<IPython.core.display.HTML object>"
      ]
     },
     "metadata": {},
     "output_type": "display_data"
    }
   ],
   "source": [
    "display(HTML(\"<style>.container { width:100% !important; }</style>\"))"
   ]
  },
  {
   "cell_type": "markdown",
   "metadata": {},
   "source": [
    "## Definition einiger Funktionen zum Vergleich von Single- v.s. Multi-Processing\n",
    "### Definition der Multi-Processing-Funktion"
   ]
  },
  {
   "cell_type": "code",
   "execution_count": 4,
   "metadata": {},
   "outputs": [],
   "source": [
    "# Definiere die Funktion \"run\" in welcher die Parallelisierung der Monte-Carlo-Simulation auf \"Multi_1b\" gemanaget wird\n",
    "def run(runs_func, runs_sim, rand_x, rand_y, mu, std_list, corr_list, alpha, gamma, draw=False, SCREEN_WIDTH=115):\n",
    "    RM_VaR_list = []\n",
    "    RM_CVaR_list = []\n",
    "    RM_PSRM_list = []\n",
    "    mega_summe_list = []\n",
    "\n",
    "    centered=operator.methodcaller('center', SCREEN_WIDTH)\n",
    "\n",
    "    start = dt.datetime.now() # Startpunkt Zeitmessung\n",
    "    with Manager() as manager: # Verwendung Funktion \"Manager()\" aus \"multiprocessing\" als Manager der geteilten Listen zwischen den parallel laufenden Simulationen\n",
    "        shared_list = manager.list() # Legt die leere Liste \"shared_list\" an, welche zwischen den parallel laufenden Simulationen geteilt wird und alle Realisationen der einzelnen Simulationsläufe enthält\n",
    "        VaR_list = manager.list() # Legt die leere Liste \"VaR_list\" an, welche zwischen den parallel laufenden Simulationen geteilt wird und alle VaR enthält\n",
    "        CVaR_list = manager.list() # Legt die leere Liste \"CVaR_list\" an, welche zwischen den parallel laufenden Simulationen geteilt wird und alle CVaR enthält\n",
    "        PSRM_list = manager.list() # Legt die leere Liste \"PSRM_list\" an, welche zwischen den parallel laufenden Simulationen geteilt wird und alle P-SRM enthält\n",
    "        processes = [] # Legt die leere Liste \"processes\" an, in welcher die auszuführenden Prozesse abgelegt werden\n",
    "        # Für jedes i in der Range 0 bis runs_func (Simulationsläufe)...\n",
    "        for i in range(runs_func):\n",
    "            p = Process(target=repeat_parallel, args=(runs_sim, rand_x, rand_y, mu, std_list, corr_list, alpha, gamma, shared_list, VaR_list, CVaR_list, PSRM_list, i)) # Erstelle den Prozess \"p\", welcher die Funktion \"repeat_parallel\" ausführt mit den gebenen Paramtertn\n",
    "            p.start() # Starte den Prozess\n",
    "            processes.append(p) # Füge den Prozess \"p\" der Liste \"processes\" an\n",
    "        # Für jenden Prozess \"p\" in \"processes\" führe due Funktion join() aus (Clean Exit Process)\n",
    "        for p in processes:\n",
    "            p.join()\n",
    "        RM_VaR_list += VaR_list # Füge der \"RM_VaR_list\" den jeweiligen VaR an\n",
    "        RM_CVaR_list += CVaR_list # s.o.\n",
    "        RM_PSRM_list += PSRM_list # s.o.\n",
    "        # Sofern draw == 'True' füge die \"shared_list\" in der \"mega_summe_list\" an\n",
    "        if draw == True:\n",
    "            mega_summe_list += shared_list\n",
    "    end = dt.datetime.now() # nedpunkt für die Zeitmessung\n",
    "    RM_frame_func(runs_sim, runs_func, RM_VaR_list, RM_CVaR_list, RM_PSRM_list, SCREEN_WIDTH, centered) # Ausführen der Funktion, welche den DataFrame mit den Risikomaßen ausgibt\n",
    "    # Sofern draw == 'True' führe die Funktion aus, welche die Verteilungfunktionen der Simulationsläufe plottet\n",
    "    if draw == True:\n",
    "        plotty_func(runs_sim, runs_func, mega_summe_list)\n",
    "    print(end-start) # Gibt das Zeit-Delta zurück\n",
    " \n",
    "#-------------------------------------------\n",
    "# Vereinfachung\n",
    "def multithreading(n, rand_x, rand_y, var_x, var_y, corr_list, std_list, mu, alpha, gamma, runs_func, runs_sim):\n",
    "    run(runs_func, runs_sim, rand_x, rand_y, mu, std_list, corr_list, alpha, gamma, draw=False)    "
   ]
  },
  {
   "cell_type": "markdown",
   "metadata": {},
   "source": [
    "### Definition der Sinlge-Processing-Funktion"
   ]
  },
  {
   "cell_type": "code",
   "execution_count": 5,
   "metadata": {},
   "outputs": [],
   "source": [
    "def single_thread(n, rand_x, rand_y, var_x, var_y, corr_list, std_list, mu, alpha, gamma, runs_func, runs_sim):\n",
    "   \n",
    "    SCREEN_WIDTH = 115\n",
    "    centered = operator.methodcaller('center', SCREEN_WIDTH)\n",
    "    \n",
    "    RM_VaR_list, RM_CVaR_list = [], []\n",
    "    RM_PSRM_list, mega_summe_list = [], []\n",
    "\n",
    "    # Führe die Simulation \"runs_func mal\" durch und speichere die Ergebnisse in der jeweiligen Liste\n",
    "    start = dt.datetime.now() \n",
    "    for i in range(0, runs_func):        \n",
    "        _, _, _, total_summe_liste = copula_sim(runs_sim, rand_x, rand_y, mu, std_list, corr_list, full_log=False)\n",
    "        mega_summe_list += total_summe_liste\n",
    "        x = rm(total_summe_liste, alpha, gamma)    \n",
    "        RM_VaR_list.append(x.VaR())    \n",
    "        RM_CVaR_list.append(x.CVaR())\n",
    "        RM_PSRM_list.append(x.Power())\n",
    "    end = dt.datetime.now()\n",
    "    print(end-start)     \n",
    "    \n",
    "    #---------------------------\n",
    "    # Erzeuge ein DataFrame mit den Simulationsvergebnissen\n",
    "    # und deren prozentualen Änderung vom jeweils vorherigen Ergebnis\n",
    "    RM_frame = pd.DataFrame()\n",
    "    RM_frame['VaR'] = RM_VaR_list\n",
    "    RM_frame['VaR-Change'] = RM_frame['VaR'].pct_change()\n",
    "    RM_frame['CVaR'] = RM_CVaR_list\n",
    "    RM_frame['CVaR-Change'] = RM_frame['CVaR'].pct_change()\n",
    "    RM_frame['Power'] = RM_PSRM_list\n",
    "    RM_frame['Power-Change'] = RM_frame['Power'].pct_change()\n",
    "\n",
    "    #---------------------------\n",
    "    # Ermittle die kleinste und größte Relaisation des jweiligen Risikomaßes\n",
    "    Min_Max_VaR = (min(RM_VaR_list), max(RM_VaR_list))\n",
    "    Min_Max_CVaR = (min(RM_CVaR_list), max(RM_CVaR_list))\n",
    "    Min_Max_PSRM = (min(RM_PSRM_list), max(RM_PSRM_list))\n",
    "\n",
    "    #---------------------------\n",
    "    # Gib den DataFrame und die Infos zurück\n",
    "    print('#' + SCREEN_WIDTH * '-' + '#')\n",
    "    print('|' + centered('[INFO] Der DataFrame mit den auf den auf ' +str(runs_func) + ' mal ' + str(runs_sim) + ' Durchläufen beruhenden Risikomaßen ergibt sich wie folgt: ') + '| ')\n",
    "    print('#' + SCREEN_WIDTH * '-' + '#')\n",
    "    print(RM_frame)\n",
    "    print('#' + SCREEN_WIDTH * '-' + '#')\n",
    "    print('|' + centered('Nach ' + str(runs_func) + ' Simulationsläufen mit je ' + str(runs_sim) + ' Durchläufen beträgt der kleinste VaR ' + str(round(Min_Max_VaR[0],2)) +', der größte ' + str(round(Min_Max_VaR[1],2)) + ' (\\u0394 = ' + str((round((float(Min_Max_VaR[0]/Min_Max_VaR[1])-1)*100,2))) + '%).') + '| ')\n",
    "    print('|' + centered('Nach ' + str(runs_func) + ' Simulationsläufen mit je ' + str(runs_sim) + ' Durchläufen beträgt der kleinste CVaR ' + str(round(Min_Max_CVaR[0],2)) +', der größte ' + str(round(Min_Max_CVaR[1],2)) + ' (\\u0394 = ' + str((round((float(Min_Max_CVaR[0]/Min_Max_CVaR[1])-1)*100,2))) + '%).') + '| ')\n",
    "    print('|' + centered('Nach ' + str(runs_func) + ' Simulationsläufen mit je ' + str(runs_sim) + ' Durchläufen beträgt das kleinste P-SRM ' + str(round(Min_Max_PSRM[0],2)) +', das größte ' + str(round(Min_Max_PSRM[1],2)) + ' (\\u0394 = ' + str((round((float(Min_Max_PSRM[0]/Min_Max_PSRM[1])-1)*100,2))) + '%).') + '| ')\n",
    "    print('#' + SCREEN_WIDTH * '-' + '#')"
   ]
  },
  {
   "cell_type": "markdown",
   "metadata": {},
   "source": [
    "## Variablen spezifizieren\n",
    "Die für die Simulation notwenigen Variablen werden definiert."
   ]
  },
  {
   "cell_type": "code",
   "execution_count": 6,
   "metadata": {},
   "outputs": [],
   "source": [
    "#-------------------------------------------\n",
    "# Parameter für die Simulation\n",
    "#------------------------------\n",
    "# Anzahl Simulationsdurchläufe\n",
    "n = 10000\n",
    "# Neue Randverteilungen (Gleichverteilung)\n",
    "rand_x = [10,20]\n",
    "rand_y = [8,22]\n",
    "# Varianzen und Korrelation(en)\n",
    "var_x = 4 \n",
    "var_y = 9\n",
    "corr_list = [0]\n",
    "std_list = [math.sqrt(var_x), math.sqrt(var_y)]\n",
    "# Erwartungswerte\n",
    "mu = [2, 3]\n",
    "#------------------------------\n",
    "#-------------------------------------------\n",
    "# Paramaeter Risikomaße\n",
    "alpha = 0.05\n",
    "gamma = 0.5\n",
    "#-------------------------------------------\n",
    "# Anzahl Simulationsläufe und Durchläufe pro Simulation\n",
    "runs_func = 10\n",
    "runs_sim = 100000"
   ]
  },
  {
   "cell_type": "markdown",
   "metadata": {},
   "source": [
    "## Funktionsaufruf"
   ]
  },
  {
   "cell_type": "code",
   "execution_count": 7,
   "metadata": {},
   "outputs": [
    {
     "name": "stdout",
     "output_type": "stream",
     "text": [
      "Ergebnis Multi-threaded:\n",
      "\n",
      "#-------------------------------------------------------------------------------------------------------------------#\n",
      "| [INFO] Der DataFrame mit den auf den auf 10 mal 100000 Durchläufen beruhenden Risikomaßen ergibt sich wie folgt:  | \n",
      "#-------------------------------------------------------------------------------------------------------------------#\n",
      "         VaR  VaR-Change       CVaR  CVaR-Change      Power  Power-Change\n",
      "0 -21.758507         NaN -20.504731          NaN  26.828263           NaN\n",
      "1 -21.707793   -0.002331 -20.462340    -0.002067  26.817743     -0.000392\n",
      "2 -21.717064    0.000427 -20.485782     0.001146  26.799571     -0.000678\n",
      "3 -21.732111    0.000693 -20.483403    -0.000116  26.836461      0.001377\n",
      "4 -21.740721    0.000396 -20.492935     0.000465  26.834742     -0.000064\n",
      "5 -21.778684    0.001746 -20.540957     0.002343  26.870833      0.001345\n",
      "6 -21.763236   -0.000709 -20.519158    -0.001061  26.850804     -0.000745\n",
      "7 -21.730395   -0.001509 -20.482281    -0.001797  26.830540     -0.000755\n",
      "8 -21.721129   -0.000426 -20.482142    -0.000007  26.826441     -0.000153\n",
      "9 -21.789455    0.003146 -20.531516     0.002411  26.862185      0.001332\n",
      "#-------------------------------------------------------------------------------------------------------------------#\n",
      "|Nach 10 Simulationsläufen mit je 100000 Durchläufen beträgt der kleinste VaR -21.79, der größte -21.71 (Δ = 0.38%).| \n",
      "|Nach 10 Simulationsläufen mit je 100000 Durchläufen beträgt der kleinste CVaR -20.54, der größte -20.46 (Δ = 0.38%).| \n",
      "|Nach 10 Simulationsläufen mit je 100000 Durchläufen beträgt das kleinste P-SRM 26.8, das größte 26.87 (Δ = -0.27%).| \n",
      "#-------------------------------------------------------------------------------------------------------------------#\n",
      "0:00:42.612356\n",
      "\n",
      "\n",
      "Ergebnis Single-threaded:\n",
      "\n",
      "0:03:51.417429\n",
      "#-------------------------------------------------------------------------------------------------------------------#\n",
      "| [INFO] Der DataFrame mit den auf den auf 10 mal 100000 Durchläufen beruhenden Risikomaßen ergibt sich wie folgt:  | \n",
      "#-------------------------------------------------------------------------------------------------------------------#\n",
      "         VaR  VaR-Change       CVaR  CVaR-Change      Power  Power-Change\n",
      "0 -21.721779         NaN -20.473054          NaN  26.811895           NaN\n",
      "1 -21.731741    0.000459 -20.487463     0.000704  26.821491      0.000358\n",
      "2 -21.749623    0.000823 -20.497513     0.000491  26.829076      0.000283\n",
      "3 -21.759824    0.000469 -20.514984     0.000852  26.834125      0.000188\n",
      "4 -21.759102   -0.000033 -20.514246    -0.000036  26.832232     -0.000071\n",
      "5 -21.734240   -0.001143 -20.481392    -0.001602  26.826350     -0.000219\n",
      "6 -21.769326    0.001614 -20.525132     0.002136  26.849975      0.000881\n",
      "7 -21.744877   -0.001123 -20.499863    -0.001231  26.810697     -0.001463\n",
      "8 -21.736873   -0.000368 -20.483276    -0.000809  26.816251      0.000207\n",
      "9 -21.681204   -0.002561 -20.460268    -0.001123  26.813104     -0.000117\n",
      "#-------------------------------------------------------------------------------------------------------------------#\n",
      "|Nach 10 Simulationsläufen mit je 100000 Durchläufen beträgt der kleinste VaR -21.77, der größte -21.68 (Δ = 0.41%).| \n",
      "|Nach 10 Simulationsläufen mit je 100000 Durchläufen beträgt der kleinste CVaR -20.53, der größte -20.46 (Δ = 0.32%).| \n",
      "|Nach 10 Simulationsläufen mit je 100000 Durchläufen beträgt das kleinste P-SRM 26.81, das größte 26.85 (Δ = -0.15%).| \n",
      "#-------------------------------------------------------------------------------------------------------------------#\n"
     ]
    }
   ],
   "source": [
    "if __name__=='__main__':\n",
    "    print('Ergebnis Multi-threaded:\\n')\n",
    "    multithreading(n, rand_x, rand_y, var_x, var_y, corr_list, std_list, mu, alpha, gamma, runs_func, runs_sim)\n",
    "    print('\\n\\nErgebnis Single-threaded:\\n')\n",
    "    single_thread(n, rand_x, rand_y, var_x, var_y, corr_list, std_list, mu, alpha, gamma, runs_func, runs_sim)"
   ]
  }
 ],
 "metadata": {
  "kernelspec": {
   "display_name": "Python 3",
   "language": "python",
   "name": "python3"
  },
  "language_info": {
   "codemirror_mode": {
    "name": "ipython",
    "version": 3
   },
   "file_extension": ".py",
   "mimetype": "text/x-python",
   "name": "python",
   "nbconvert_exporter": "python",
   "pygments_lexer": "ipython3",
   "version": "3.7.4"
  }
 },
 "nbformat": 4,
 "nbformat_minor": 2
}
