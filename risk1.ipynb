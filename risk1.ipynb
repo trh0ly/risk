{
 "cells": [
  {
   "cell_type": "markdown",
   "metadata": {},
   "source": [
    "# Historsiche Simulation versus Varianz-Kovarianz-Methode"
   ]
  },
  {
   "cell_type": "markdown",
   "metadata": {},
   "source": [
    "© Thomas Robert Holy 2019"
   ]
  },
  {
   "cell_type": "markdown",
   "metadata": {},
   "source": [
    "## Voraussetzungen:"
   ]
  },
  {
   "cell_type": "markdown",
   "metadata": {},
   "source": [
    "### Minimal:"
   ]
  },
  {
   "cell_type": "markdown",
   "metadata": {},
   "source": [
    "- Ihr habt die Dateien \"BAS.DE.csv\" und \"FME.DE.csv\" im Home-Verzeichnis hochgeladen"
   ]
  },
  {
   "cell_type": "markdown",
   "metadata": {},
   "source": [
    "### Optional:"
   ]
  },
  {
   "cell_type": "markdown",
   "metadata": {},
   "source": [
    "Ihr habt noch drei weitere .csv-Datein in demselben Ordner wie das Jupyter Notebook gespeichert und diese..\n",
    "<br>\n",
    "- ..Umfassen denselben Zeitraum wie die obigen Dateien\n",
    "<br>\n",
    "- ..Verwenden einen Punkt zur Dezimaltrennung\n",
    "<br>\n",
    "- ..Verwenden ein Komma zur Spaltentrennung"
   ]
  },
  {
   "cell_type": "markdown",
   "metadata": {},
   "source": [
    "## Grundlegende Einstellungen:"
   ]
  },
  {
   "cell_type": "markdown",
   "metadata": {},
   "source": [
    "Zunächst müssen die notwendigen Packete (auch Module) importiert werden, damit auf diese zugegriffen werden kann."
   ]
  },
  {
   "cell_type": "code",
   "execution_count": null,
   "metadata": {},
   "outputs": [],
   "source": [
    "import numpy as np # Programmbibliothek die eine einfache Handhabung von Vektoren, Matrizen oder generell großen mehrdimensionalen Arrays ermöglicht\n",
    "import pandas as pd #  Programmbibliothek die Hilfsmittel für die Verwaltung von Daten und deren Analyse anbietet\n",
    "import matplotlib.pyplot as plt # Programmbibliothek die es erlaubt mathematische Darstellungen aller Art anzufertigen\n",
    "import matplotlib.patches as mpatches\n",
    "import operator # Programmbibliothek die Ausgabe in diesem Beispiel übersichtlicher gestaltet\n",
    "import datetime as dt # Das datetime-Modul stellt Klassen bereit, mit denen Datums- und Uhrzeitangaben auf einfache und komplexe Weise bearbeitet werden können\n",
    "import sys # Dieses Modul bietet Zugriff auf einige Variablen, die vom Interpreter verwendet oder verwaltet werden, sowie auf Funktionen, die stark mit dem Interpreter interagieren\n",
    "from scipy import stats # SciPy ist ein Python-basiertes Ökosystem für Open-Source-Software für Mathematik, Naturwissenschaften und Ingenieurwissenschaften. "
   ]
  },
  {
   "cell_type": "markdown",
   "metadata": {},
   "source": [
    "Anschließend definieren wir die Einstellungen mit denen die Ausgaben generiert werden sollen.\n",
    "Hierfür nutzen wir das zuvor importierte Modul `operator`.\n",
    "Zusätzlich erhöhen wir noch die Displaybreite für das DataFrame, welches wir später verwenden werden und modifizieren die Größe der Grafik, welche später angezeigt werden soll."
   ]
  },
  {
   "cell_type": "code",
   "execution_count": null,
   "metadata": {},
   "outputs": [],
   "source": [
    "SCREEN_WIDTH = 140 # Definiert die maximale Breite der Ausgabe, d.h. wie viele Zeichen die Ausgabe maximal umfasst\n",
    "centered = operator.methodcaller('center', SCREEN_WIDTH) # Definiert die Variable \"centered\", welche die Ausgabe zentriert \n",
    "\n",
    "pd.set_option('display.width', 1000) # Erhöht die Displaybreite für DataFrames, sodass mehr Spalten nebeneinander angezeigt werden können\n",
    "plt.rcParams[\"figure.figsize\"] = 10,7.5 # Parameter für die Größe der Grafik"
   ]
  },
  {
   "cell_type": "markdown",
   "metadata": {},
   "source": [
    "Ein Beispiel:"
   ]
  },
  {
   "cell_type": "code",
   "execution_count": null,
   "metadata": {},
   "outputs": [],
   "source": [
    "print('#--------------------------------------------------------------------------------------------------------------------------------------------#')\n",
    "print('|' + centered('[INFO] Die Ausgabe wird nun zentriert um die Übersichtlichkeit zu verbessern.') + '| ')\n",
    "print('#--------------------------------------------------------------------------------------------------------------------------------------------#')"
   ]
  },
  {
   "cell_type": "markdown",
   "metadata": {},
   "source": [
    "## Datensätze einlesen und manipulieren:"
   ]
  },
  {
   "cell_type": "markdown",
   "metadata": {},
   "source": [
    "Nun wollen wir Datensätze einlesen.\n",
    "Da Jupityer Notebook leider Eingaben nicht zeilenweise einlesen kann, müssen wir die Datensätze manuell definieren und anschließend zum Array \"dateinamen\" hinzufügen.\n",
    "Standardmäßig werden zunächst zwei Datensätze (BAS.DE, FME.DE) definiert und im Array \"dateinamen\" gespeichert."
   ]
  },
  {
   "cell_type": "code",
   "execution_count": null,
   "metadata": {},
   "outputs": [],
   "source": [
    "datensatz1 = 'BAS.DE'\n",
    "datensatz2 = 'FME.DE'\n",
    "\n",
    "#---------------------------------------------\n",
    "# Hier könnt ihr weitere Datensätze definieren\n",
    "\n",
    "#datensatz3 = ''\n",
    "#datensatz4 = ''\n",
    "#datensatz5 = ''\n",
    "\n",
    "#---------------------------------------------\n",
    "# Diese müssen ggf. noch in diesem Array\n",
    "# ergänzt werden\n",
    "\n",
    "dateinamen = [datensatz1,datensatz2]"
   ]
  },
  {
   "cell_type": "markdown",
   "metadata": {},
   "source": [
    "Nun möchten wir aus den eingelesen Datensätzen den Aktienkurs zum jeweiligen Tag extrahieren. \n",
    "Diesen Schritt können wir in Jupyter Notebook automatisieren, indem wir zunächst die leere Liste \"kurse\" anlegen und anschließend für jeden Eintrag in der Liste \"dateinamen\" die jeweiligen Spalten \"Date\" und \"Adj Close\" einlesen.\n",
    "Dabei separieren wir die verschiedenen Spalten des jeweiligen Datensatzes mit jedem Komma und interpreteren Punkte als Zeichen für die Dezimaltrennung. Dann fügen wir die Daten zum Array \"kurse\" hinzu."
   ]
  },
  {
   "cell_type": "code",
   "execution_count": null,
   "metadata": {},
   "outputs": [],
   "source": [
    "kurse = []        \n",
    "\n",
    "for eintrag in dateinamen:\n",
    "    kurs = pd.read_csv(str(eintrag) + '.csv',\n",
    "                sep=',',\n",
    "                decimal='.',\n",
    "                usecols=['Date','Adj Close'])\n",
    "    kurse.append(kurs)"
   ]
  },
  {
   "cell_type": "markdown",
   "metadata": {},
   "source": [
    "Nun nutzen wir das Modul \"datetime\" um die Datumsspalte des jeweiligen Datensatzes bearbeitbar zu machen.\n",
    "Zudem teilen wir dem Programm mit, dass die Einträge der Spalte \"Adj Close\" numerisch sind und wir mit ihnen rechnen können. Kommt es zu Fehlern werden entsprechende Werte als NaN-Werte zurückgebenen.\n"
   ]
  },
  {
   "cell_type": "code",
   "execution_count": null,
   "metadata": {},
   "outputs": [],
   "source": [
    "for eintrag in kurse:\n",
    "    eintrag['Date'] = pd.to_datetime(eintrag['Date'])\n",
    "    eintrag['Adj Close'] = pd.to_numeric(eintrag['Adj Close'], errors='coerce')"
   ]
  },
  {
   "cell_type": "markdown",
   "metadata": {},
   "source": [
    "## Dataframe erzeugen und Daten zusammentragen:"
   ]
  },
  {
   "cell_type": "markdown",
   "metadata": {},
   "source": [
    "Jetzt tragen wir die eingelesenen Daten in einem Dataframe zusammen, wobei wir auf das Modul `Pandas` zurückgreifen.\n",
    "Ein Dataframe kann als Tabelle verstanden werden, welche sich ähnlich wie die in Excel verhält.\n",
    "Diesen Vorgang können wir wieder automatisieren, damit wir die einzelnen Spalten nicht manuell hinzufügen müssen. \n",
    "Zunächst wird das leere DataFrame \"kurschart\" definiert, anschließend wird für jeden Eintrag in dem Array \"kurse\" zunächst der entsprechende Aktienkurs und anschließend die dazugehörige Rendte berechnet und zum Dataframe hinzugefügt.\n",
    "Damit wir die Aktienkurse und Renditen auseinander halten können, greifen wir auf die Dateinamen aus dem Array \"dateinamen\" zurück."
   ]
  },
  {
   "cell_type": "code",
   "execution_count": null,
   "metadata": {},
   "outputs": [],
   "source": [
    "kurschart = pd.DataFrame()\n",
    "zaehler = 0\n",
    "\n",
    "for eintrag in kurse:\n",
    "    x = dateinamen[zaehler]\n",
    "    kurschart['Aktienkurs ' + str(x)] = eintrag['Adj Close']\n",
    "    kurschart['Rendite ' + str(x)] = (eintrag['Adj Close'] - eintrag['Adj Close'].shift(periods=-1)) / eintrag['Adj Close'].shift(periods=-1)\n",
    "    zaehler += 1"
   ]
  },
  {
   "cell_type": "markdown",
   "metadata": {},
   "source": [
    "Um die Portfolio-Rendite zu ermitteln, selektieren wir die Spalten des DataFrames \"kurschart\" indem wir jede zweite Spalte auswählen (dies sind die jeweiligen Rendite-Spalten) und in einem zweiten DataFrame (\"hilfs_dataframe\") abspeichern. \n",
    "Anschließend bilden wir aus sämtlichen selektierten Spalten die Summe und teilen durch die Anzahl der Datensätze, die sich im Array \"dateinamen\" befinden."
   ]
  },
  {
   "cell_type": "code",
   "execution_count": null,
   "metadata": {},
   "outputs": [],
   "source": [
    "hilfs_dataframe = kurschart.iloc[:, 1::2]\n",
    "hilfs_dataframe['PF-Rendite'] = hilfs_dataframe.sum(axis = 1, skipna = True) / len(dateinamen)"
   ]
  },
  {
   "cell_type": "markdown",
   "metadata": {},
   "source": [
    "Diese Portfolio-Rendite fügen wir nun dem urpsrünglichen Dataframe \"kurschart\" hinzu. \n",
    "Zudem erweitern wir den DataFrame und eine Datumsspalte und verwenden diese gleichzeitig als Index."
   ]
  },
  {
   "cell_type": "code",
   "execution_count": null,
   "metadata": {},
   "outputs": [],
   "source": [
    "kurschart['Rendite-PF'] = hilfs_dataframe['PF-Rendite']\n",
    "\n",
    "kurschart['Datum'] = eintrag['Date']\n",
    "kurschart = kurschart.set_index('Datum')"
   ]
  },
  {
   "cell_type": "markdown",
   "metadata": {},
   "source": [
    "Nun lassen wir uns den Dataframe ausgeben:"
   ]
  },
  {
   "cell_type": "code",
   "execution_count": null,
   "metadata": {},
   "outputs": [],
   "source": [
    "print('#--------------------------------------------------------------------------------------------------------------------------------------------#')\n",
    "print('|' + centered('[INFO] Das Dataframe mit den Aktienkursen der Datensätze und deren jeweiligen Rendite ergibt sich wie folgt: ') + '| ')\n",
    "print('#--------------------------------------------------------------------------------------------------------------------------------------------#')\n",
    "print(kurschart)\n",
    "print('#--------------------------------------------------------------------------------------------------------------------------------------------#')"
   ]
  },
  {
   "cell_type": "markdown",
   "metadata": {},
   "source": [
    "## Portfolio-Renditedaten bereinigen und analysieren:"
   ]
  },
  {
   "cell_type": "markdown",
   "metadata": {},
   "source": [
    "Da wir für unsere Simulationsverfahren fortan die Portfolio-Rendite benötigen, speichern wir diese zunächst in einer Liste und führen anschließend eine Bereinigung (um NaN-Werte) durch."
   ]
  },
  {
   "cell_type": "code",
   "execution_count": null,
   "metadata": {},
   "outputs": [],
   "source": [
    "values_PF = kurschart['Rendite-PF'].values.tolist()\n",
    "values_PF = np.array(values_PF)\n",
    "values_PF = values_PF[np.logical_not(np.isnan(values_PF))]"
   ]
  },
  {
   "cell_type": "markdown",
   "metadata": {},
   "source": [
    "Jetzt ermitteln wir den Erwartungswert aus den Portfolio-Renditedaten. Dazu nutzen wir das Modul `Numpy` und lassen uns den so ermittelten Erwartungswert anschließend ausgeben."
   ]
  },
  {
   "cell_type": "code",
   "execution_count": null,
   "metadata": {},
   "outputs": [],
   "source": [
    "mu_PF = np.mean(values_PF)\n",
    "\n",
    "print('#--------------------------------------------------------------------------------------------------------------------------------------------#')\n",
    "print('|' + centered('[INFO] Die Porfolio-Rendite hat einen Erwartunswert i.H.v. ' + str(mu_PF) + '.') + '| ')\n",
    "print('#--------------------------------------------------------------------------------------------------------------------------------------------#')"
   ]
  },
  {
   "cell_type": "markdown",
   "metadata": {},
   "source": [
    "Äquivalent verfahren wir mit der Standardabweichung."
   ]
  },
  {
   "cell_type": "code",
   "execution_count": null,
   "metadata": {},
   "outputs": [],
   "source": [
    "std_PF = np.std(values_PF)\n",
    "\n",
    "print('#--------------------------------------------------------------------------------------------------------------------------------------------#')\n",
    "print('|' + centered('[INFO] Das Porfolio hat somit eine Standardabweichung i.H.v. ' + str(std_PF) + '.') + '| ')\n",
    "print('#--------------------------------------------------------------------------------------------------------------------------------------------#')"
   ]
  },
  {
   "cell_type": "code",
   "execution_count": null,
   "metadata": {},
   "outputs": [],
   "source": [
    "mu = mu_PF # Erwartungsawert\n",
    "sigma = std_PF # Standardabweichung"
   ]
  },
  {
   "cell_type": "markdown",
   "metadata": {},
   "source": [
    "Um den Start- und Endwert beider Simulationsverfahren sinnvoll zu begrenzen, ermitteln wir den kleinsten und größten Rendite-Wert der im DataFrame \"kurschart\" vorhanden ist."
   ]
  },
  {
   "cell_type": "code",
   "execution_count": null,
   "metadata": {},
   "outputs": [],
   "source": [
    "mini_values_PF = min(values_PF) # Minimum aus den PF-Realisationen\n",
    "maxi_values_PF = max(values_PF) # Maximum aus den PF-Realisationen"
   ]
  },
  {
   "cell_type": "markdown",
   "metadata": {},
   "source": [
    "## Abfragefunktion definieren:"
   ]
  },
  {
   "cell_type": "markdown",
   "metadata": {},
   "source": [
    "Nun definieren wir eine nützliche Funktion mit deren Hilfe wir die Granularität der jeweiligen Verteilungsfunktion bestimmen können.\n",
    "Standardmäßig wird die höchste Granularität gewählt, d.h. jede einzelne Realsation wird einzeln erfasst, sodass die Verteilungsfunktion eine sehr hohe Genauigkeit aufweist.\n",
    "Dies muss jedoch nicht immer sinnvoll sein, weshalb wir diese in einem gewissen Umfang auch selbst bestimmen wollen.\n",
    "Im Grunde fragt uns die Funktion ob eine Anpassung vorgenommen werden soll. \n",
    "Im Falle das eine Anpassung vorgenommen wird, wird eine Eingabe erwartet, welche dann weitergeleitet wird."
   ]
  },
  {
   "cell_type": "code",
   "execution_count": null,
   "metadata": {},
   "outputs": [],
   "source": [
    "def abfrage():\n",
    "    abfrage = None\n",
    "    while abfrage not in ('Ja', 'Nein', 'ja', 'nein', 'j', 'n'):\n",
    "        abfrage = input('|' + centered('[EINGABE] Möchten Sie die Granularität anpassen? Geben Sie \"Ja\" oder \"Nein\" ein: ') + '| ')        \n",
    "        if abfrage == 'Nein' or abfrage == 'nein' or abfrage == 'n':\n",
    "            return len(values_PF)\n",
    "        elif abfrage == 'Ja' or abfrage == 'ja' or abfrage == 'j':\n",
    "            return int(input('|' + centered('[EINGABE] Geben sie eine Zahl zwischen ' + str(round(len(values_PF)/10)) + ' und ' + str(len(values_PF)) + ' ein') + '| '))    \n",
    "        else:\n",
    "            print('|' + centered('[WARNUNG] Geben Sie \"Ja\" oder \"Nein\" ein! ') + '| ')"
   ]
  },
  {
   "cell_type": "markdown",
   "metadata": {},
   "source": [
    "## Verteilungsfunktionen definieren und plotten:"
   ]
  },
  {
   "cell_type": "markdown",
   "metadata": {},
   "source": [
    "Im letzten Schritt gilt es nun alle Informationen zusammenzutragen und die beiden Verteilungsfunktionen zu zeichnen."
   ]
  },
  {
   "cell_type": "code",
   "execution_count": null,
   "metadata": {},
   "outputs": [],
   "source": [
    "# Funktion aufrufen\n",
    "print('#--------------------------------------------------------------------------------------------------------------------------------------------#')\n",
    "bins = abfrage()\n",
    "print('#--------------------------------------------------------------------------------------------------------------------------------------------#')\n",
    "\n",
    "#-----------------------------------------------------------------------------------------------------------------------------------------------------\n",
    "# Historische Simulation\n",
    "\n",
    "H, X1 = np.histogram(values_PF, bins, density=True)\n",
    "dx = X1[1] - X1[0]\n",
    "F1 = np.cumsum(H)*dx\n",
    "plt.plot(X1[1:], F1)\n",
    "\n",
    "#-----------------------------------------------------------------------------------------------------------------------------------------------------\n",
    "# Varianz-Kovarianz-Methode\n",
    "\n",
    "x = np.linspace(mini_values_PF, maxi_values_PF, bins) #len(values_PF)) # Erzeuge eine Range vom Minimum der PF-Realisationen bis zum Maximum\n",
    "#x = np.linspace(mini_values_PF, maxi_values_PF, len(values_PF)) # Erzeuge eine Range vom Minimum der PF-Realisationen bis zum Maximum\n",
    "plt.plot(x, stats.norm.cdf(x, mu, sigma)) # Plotte die Verteilungfunkton für diese Range mit den geschätzten Parametern aus dem Datensatz\n",
    "\n",
    "#-----------------------------------------------------------------------------------------------------------------------------------------------------\n",
    "# Weitere Einstellungen der Grafik\n",
    "\n",
    "plt.grid() # Zeichne ein Gitternetz\n",
    "plt.xlabel('Rendite') # Beschrifte die x-Achse \n",
    "plt.ylabel('Wahrscheinlichkeit') # Beschrifte die y-Achse \n",
    "blue_patch = mpatches.Patch(color='blue', label='Historische Simulation') # Lege den Legendeneintrag für die historische Simulation manuell an\n",
    "orange_patch = mpatches.Patch(color='orange', label='Varianz-Kovarianzmethode')  # Lege den Legendeneintrag für die Varianz-Kovarianz-Methode manuell an\n",
    "plt.legend(handles=[orange_patch, blue_patch]) # Füge die Legende zur Grafik hinzu\n",
    "plt.title('Verteilungsfunktion: Historische Simulation versus Varianz-Kovarianz-Methode') # Beschriftung der Grafik\n",
    "plt.axhline(0, color='black') # Zeichne die x-Achse\n",
    "plt.axvline(0, color='black') # Zeiche die y-Achse\n",
    "plt.show() # Zeige die gesamte Grafik"
   ]
  },
  {
   "cell_type": "code",
   "execution_count": null,
   "metadata": {},
   "outputs": [],
   "source": []
  }
 ],
 "metadata": {
  "kernelspec": {
   "display_name": "Python 3",
   "language": "python",
   "name": "python3"
  },
  "language_info": {
   "codemirror_mode": {
    "name": "ipython",
    "version": 3
   },
   "file_extension": ".py",
   "mimetype": "text/x-python",
   "name": "python",
   "nbconvert_exporter": "python",
   "pygments_lexer": "ipython3",
   "version": "3.7.3"
  }
 },
 "nbformat": 4,
 "nbformat_minor": 4
}
